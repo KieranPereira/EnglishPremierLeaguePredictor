{
 "cells": [
  {
   "cell_type": "markdown",
   "id": "0cb437fa",
   "metadata": {},
   "source": [
    "# Introduction\n",
    "\n",
    "This notebook was used to predict the matches of the English Premier League (EPL) for matchweek 20. The data was provided in a .csv file from the 2000/01 to 2022/23 seasons [1]. Additional data were added as extra features from external sources [2,3]. These included statistics like home and away possession %, home and away win rate % and home and away rating. Other features were engineered through the use of specific formulae for the home and away attacking and defencive strength. \n",
    "\n",
    "The next section discusses about data imported into a pandas data frame and the concept of differential was introduced. Next, there was data transformation and exploration where the rolling averages for the given fetaures were found for different number of games. \n",
    "\n",
    "In the methodology section, different models were implemented from scikit learn and then they were trained using the grid search algorithm to give the best accuracy.\n",
    "\n",
    "Finally, the results were shown for the future matches using the best model and the relative feature importance was shown.\n",
    "\n",
    "[1] England Football Results Betting Odds | Premiership Results & Betting Odds [Internet]. Football-data.co.uk. 2022 [cited 2023 Jan 3]. Available from: https://www.football-data.co.uk/englandm.php\n",
    "\n",
    "[2] Premier League Team Statistics | WhoScored.com [Internet]. Whoscored.com. 2023 [cited 2023 Jan 3]. Available from: https://www.whoscored.com/Regions/252/Tournaments/2/Seasons/1849/Stages/3115/TeamStatistics/England-Premier-League-2009-2010\n",
    "\n",
    "[3] Simulating a Football Season [Internet]. IB Maths Resources from Intermathematics. IB Maths Resources from Intermathematics; 2019 [cited 2023 Jan 3]. Available from: https://ibmathsresources.com/simulating-a-football-season/"
   ]
  },
  {
   "cell_type": "markdown",
   "id": "cb7e7827",
   "metadata": {},
   "source": [
    "# Data Import\n",
    "\n",
    "In this section different python libraries have been imported that are needed to start investigating the data. For instance, Pandas and Numpy were imported as well as some other functions such as train_test_split and accuracy_score from Scikit learn. The train and test data have been loaded using the .csv format. Using the describe function, some important statistical parameters were found such as the mean and standard deviation of the dataset for each fetaure."
   ]
  },
  {
   "cell_type": "code",
   "execution_count": 1,
   "id": "3714d8cf",
   "metadata": {},
   "outputs": [],
   "source": [
    "# loading different python libraries and key metrics from scikit learn\n",
    "import pandas as pd \n",
    "import numpy as np \n",
    "import matplotlib.pyplot as plt\n",
    "import seaborn as sns\n",
    "from os import access\n",
    "import shutil\n",
    "from sklearn.preprocessing import scale \n",
    "from sklearn.model_selection import train_test_split \n",
    "from sklearn.metrics import classification_report \n",
    "from sklearn.metrics import accuracy_score\n",
    "from sklearn.model_selection import GridSearchCV\n",
    "from sklearn.inspection import permutation_importance\n",
    "from sklearn.preprocessing import StandardScaler\n",
    "from sklearn.decomposition import PCA\n",
    "from sklearn.metrics import confusion_matrix\n",
    "\n",
    "# loading different machine learning algorithms from scikit learn\n",
    "from sklearn.ensemble import RandomForestClassifier \n",
    "from sklearn.naive_bayes import GaussianNB\n",
    "from sklearn.neighbors import KNeighborsClassifier\n",
    "from sklearn.ensemble import RandomForestRegressor\n",
    "from sklearn.linear_model import LogisticRegression\n",
    "from sklearn.linear_model import LinearRegression\n",
    "from sklearn.svm import SVC\n",
    "from sklearn import svm\n",
    "from sklearn.neural_network import MLPClassifier,MLPRegressor"
   ]
  },
  {
   "cell_type": "code",
   "execution_count": 2,
   "id": "39885002",
   "metadata": {},
   "outputs": [],
   "source": [
    "# loading training and test datset\n",
    "data_train = pd.read_csv(\"epl_train_final.csv\")\n",
    "data_test = pd.read_csv(\"epl_test_final.csv\")"
   ]
  },
  {
   "cell_type": "code",
   "execution_count": 3,
   "id": "61b086b7",
   "metadata": {},
   "outputs": [
    {
     "data": {
      "text/html": [
       "<div>\n",
       "<style scoped>\n",
       "    .dataframe tbody tr th:only-of-type {\n",
       "        vertical-align: middle;\n",
       "    }\n",
       "\n",
       "    .dataframe tbody tr th {\n",
       "        vertical-align: top;\n",
       "    }\n",
       "\n",
       "    .dataframe thead th {\n",
       "        text-align: right;\n",
       "    }\n",
       "</style>\n",
       "<table border=\"1\" class=\"dataframe\">\n",
       "  <thead>\n",
       "    <tr style=\"text-align: right;\">\n",
       "      <th></th>\n",
       "      <th>FTHG</th>\n",
       "      <th>FTAG</th>\n",
       "      <th>HTHG</th>\n",
       "      <th>HTAG</th>\n",
       "      <th>HS</th>\n",
       "      <th>AS</th>\n",
       "      <th>HST</th>\n",
       "      <th>AST</th>\n",
       "      <th>HC</th>\n",
       "      <th>AC</th>\n",
       "      <th>...</th>\n",
       "      <th>Arating</th>\n",
       "      <th>HomeMatchupWinRate</th>\n",
       "      <th>AwayMatchupWinRate</th>\n",
       "      <th>HomeTeamHomeWinrate</th>\n",
       "      <th>AwayTeamAwayWinrate</th>\n",
       "      <th>HomePreviousMatchupResult</th>\n",
       "      <th>HomeAttackingStrength</th>\n",
       "      <th>HomeDefensiveStrength</th>\n",
       "      <th>AwayAttackingStrength</th>\n",
       "      <th>AwayDefensiveStrength</th>\n",
       "    </tr>\n",
       "  </thead>\n",
       "  <tbody>\n",
       "    <tr>\n",
       "      <th>count</th>\n",
       "      <td>8486.000000</td>\n",
       "      <td>8486.000000</td>\n",
       "      <td>8486.000000</td>\n",
       "      <td>8486.000000</td>\n",
       "      <td>8486.000000</td>\n",
       "      <td>8486.000000</td>\n",
       "      <td>8486.000000</td>\n",
       "      <td>8486.000000</td>\n",
       "      <td>8486.000000</td>\n",
       "      <td>8486.000000</td>\n",
       "      <td>...</td>\n",
       "      <td>5066.000000</td>\n",
       "      <td>8486.000000</td>\n",
       "      <td>8486.000000</td>\n",
       "      <td>8487.000000</td>\n",
       "      <td>8487.000000</td>\n",
       "      <td>8486.000000</td>\n",
       "      <td>8487.000000</td>\n",
       "      <td>8487.000000</td>\n",
       "      <td>8487.000000</td>\n",
       "      <td>8487.000000</td>\n",
       "    </tr>\n",
       "    <tr>\n",
       "      <th>mean</th>\n",
       "      <td>1.523922</td>\n",
       "      <td>1.154961</td>\n",
       "      <td>0.683125</td>\n",
       "      <td>0.507424</td>\n",
       "      <td>13.516498</td>\n",
       "      <td>10.666863</td>\n",
       "      <td>6.090502</td>\n",
       "      <td>4.749941</td>\n",
       "      <td>6.074358</td>\n",
       "      <td>4.778341</td>\n",
       "      <td>...</td>\n",
       "      <td>6.735904</td>\n",
       "      <td>0.352867</td>\n",
       "      <td>0.362514</td>\n",
       "      <td>0.459965</td>\n",
       "      <td>0.279575</td>\n",
       "      <td>0.462703</td>\n",
       "      <td>0.961008</td>\n",
       "      <td>0.980424</td>\n",
       "      <td>0.733708</td>\n",
       "      <td>1.279707</td>\n",
       "    </tr>\n",
       "    <tr>\n",
       "      <th>std</th>\n",
       "      <td>1.304660</td>\n",
       "      <td>1.142897</td>\n",
       "      <td>0.834362</td>\n",
       "      <td>0.723788</td>\n",
       "      <td>5.270113</td>\n",
       "      <td>4.598752</td>\n",
       "      <td>3.317540</td>\n",
       "      <td>2.783006</td>\n",
       "      <td>3.094963</td>\n",
       "      <td>2.738194</td>\n",
       "      <td>...</td>\n",
       "      <td>0.154347</td>\n",
       "      <td>0.150114</td>\n",
       "      <td>0.151188</td>\n",
       "      <td>0.135767</td>\n",
       "      <td>0.121422</td>\n",
       "      <td>0.411523</td>\n",
       "      <td>0.236319</td>\n",
       "      <td>0.185241</td>\n",
       "      <td>0.175193</td>\n",
       "      <td>0.227830</td>\n",
       "    </tr>\n",
       "    <tr>\n",
       "      <th>min</th>\n",
       "      <td>0.000000</td>\n",
       "      <td>0.000000</td>\n",
       "      <td>0.000000</td>\n",
       "      <td>0.000000</td>\n",
       "      <td>0.000000</td>\n",
       "      <td>0.000000</td>\n",
       "      <td>0.000000</td>\n",
       "      <td>0.000000</td>\n",
       "      <td>0.000000</td>\n",
       "      <td>0.000000</td>\n",
       "      <td>...</td>\n",
       "      <td>6.240000</td>\n",
       "      <td>0.043478</td>\n",
       "      <td>0.041667</td>\n",
       "      <td>0.090909</td>\n",
       "      <td>0.041667</td>\n",
       "      <td>0.000000</td>\n",
       "      <td>0.479485</td>\n",
       "      <td>0.573626</td>\n",
       "      <td>0.396516</td>\n",
       "      <td>0.576807</td>\n",
       "    </tr>\n",
       "    <tr>\n",
       "      <th>25%</th>\n",
       "      <td>1.000000</td>\n",
       "      <td>0.000000</td>\n",
       "      <td>0.000000</td>\n",
       "      <td>0.000000</td>\n",
       "      <td>10.000000</td>\n",
       "      <td>7.000000</td>\n",
       "      <td>4.000000</td>\n",
       "      <td>3.000000</td>\n",
       "      <td>4.000000</td>\n",
       "      <td>3.000000</td>\n",
       "      <td>...</td>\n",
       "      <td>6.630000</td>\n",
       "      <td>0.250000</td>\n",
       "      <td>0.250000</td>\n",
       "      <td>0.363636</td>\n",
       "      <td>0.198380</td>\n",
       "      <td>0.000000</td>\n",
       "      <td>0.792123</td>\n",
       "      <td>0.863653</td>\n",
       "      <td>0.607396</td>\n",
       "      <td>1.091955</td>\n",
       "    </tr>\n",
       "    <tr>\n",
       "      <th>50%</th>\n",
       "      <td>1.000000</td>\n",
       "      <td>1.000000</td>\n",
       "      <td>0.000000</td>\n",
       "      <td>0.000000</td>\n",
       "      <td>13.000000</td>\n",
       "      <td>10.000000</td>\n",
       "      <td>6.000000</td>\n",
       "      <td>4.000000</td>\n",
       "      <td>6.000000</td>\n",
       "      <td>4.000000</td>\n",
       "      <td>...</td>\n",
       "      <td>6.720000</td>\n",
       "      <td>0.333333</td>\n",
       "      <td>0.333333</td>\n",
       "      <td>0.427273</td>\n",
       "      <td>0.250000</td>\n",
       "      <td>0.500000</td>\n",
       "      <td>0.904006</td>\n",
       "      <td>0.997947</td>\n",
       "      <td>0.687938</td>\n",
       "      <td>1.332542</td>\n",
       "    </tr>\n",
       "    <tr>\n",
       "      <th>75%</th>\n",
       "      <td>2.000000</td>\n",
       "      <td>2.000000</td>\n",
       "      <td>1.000000</td>\n",
       "      <td>1.000000</td>\n",
       "      <td>17.000000</td>\n",
       "      <td>13.000000</td>\n",
       "      <td>8.000000</td>\n",
       "      <td>6.000000</td>\n",
       "      <td>8.000000</td>\n",
       "      <td>6.000000</td>\n",
       "      <td>...</td>\n",
       "      <td>6.830000</td>\n",
       "      <td>0.454545</td>\n",
       "      <td>0.500000</td>\n",
       "      <td>0.553360</td>\n",
       "      <td>0.333333</td>\n",
       "      <td>1.000000</td>\n",
       "      <td>1.104139</td>\n",
       "      <td>1.098782</td>\n",
       "      <td>0.836260</td>\n",
       "      <td>1.442390</td>\n",
       "    </tr>\n",
       "    <tr>\n",
       "      <th>max</th>\n",
       "      <td>9.000000</td>\n",
       "      <td>9.000000</td>\n",
       "      <td>5.000000</td>\n",
       "      <td>5.000000</td>\n",
       "      <td>43.000000</td>\n",
       "      <td>31.000000</td>\n",
       "      <td>24.000000</td>\n",
       "      <td>20.000000</td>\n",
       "      <td>20.000000</td>\n",
       "      <td>19.000000</td>\n",
       "      <td>...</td>\n",
       "      <td>7.130000</td>\n",
       "      <td>0.866667</td>\n",
       "      <td>0.875000</td>\n",
       "      <td>0.800000</td>\n",
       "      <td>0.625000</td>\n",
       "      <td>1.000000</td>\n",
       "      <td>1.560087</td>\n",
       "      <td>1.559351</td>\n",
       "      <td>1.225289</td>\n",
       "      <td>2.061906</td>\n",
       "    </tr>\n",
       "  </tbody>\n",
       "</table>\n",
       "<p>8 rows × 33 columns</p>\n",
       "</div>"
      ],
      "text/plain": [
       "              FTHG         FTAG         HTHG         HTAG           HS  \\\n",
       "count  8486.000000  8486.000000  8486.000000  8486.000000  8486.000000   \n",
       "mean      1.523922     1.154961     0.683125     0.507424    13.516498   \n",
       "std       1.304660     1.142897     0.834362     0.723788     5.270113   \n",
       "min       0.000000     0.000000     0.000000     0.000000     0.000000   \n",
       "25%       1.000000     0.000000     0.000000     0.000000    10.000000   \n",
       "50%       1.000000     1.000000     0.000000     0.000000    13.000000   \n",
       "75%       2.000000     2.000000     1.000000     1.000000    17.000000   \n",
       "max       9.000000     9.000000     5.000000     5.000000    43.000000   \n",
       "\n",
       "                AS          HST          AST           HC           AC  ...  \\\n",
       "count  8486.000000  8486.000000  8486.000000  8486.000000  8486.000000  ...   \n",
       "mean     10.666863     6.090502     4.749941     6.074358     4.778341  ...   \n",
       "std       4.598752     3.317540     2.783006     3.094963     2.738194  ...   \n",
       "min       0.000000     0.000000     0.000000     0.000000     0.000000  ...   \n",
       "25%       7.000000     4.000000     3.000000     4.000000     3.000000  ...   \n",
       "50%      10.000000     6.000000     4.000000     6.000000     4.000000  ...   \n",
       "75%      13.000000     8.000000     6.000000     8.000000     6.000000  ...   \n",
       "max      31.000000    24.000000    20.000000    20.000000    19.000000  ...   \n",
       "\n",
       "           Arating  HomeMatchupWinRate  AwayMatchupWinRate  \\\n",
       "count  5066.000000         8486.000000         8486.000000   \n",
       "mean      6.735904            0.352867            0.362514   \n",
       "std       0.154347            0.150114            0.151188   \n",
       "min       6.240000            0.043478            0.041667   \n",
       "25%       6.630000            0.250000            0.250000   \n",
       "50%       6.720000            0.333333            0.333333   \n",
       "75%       6.830000            0.454545            0.500000   \n",
       "max       7.130000            0.866667            0.875000   \n",
       "\n",
       "       HomeTeamHomeWinrate  AwayTeamAwayWinrate  HomePreviousMatchupResult  \\\n",
       "count          8487.000000          8487.000000                8486.000000   \n",
       "mean              0.459965             0.279575                   0.462703   \n",
       "std               0.135767             0.121422                   0.411523   \n",
       "min               0.090909             0.041667                   0.000000   \n",
       "25%               0.363636             0.198380                   0.000000   \n",
       "50%               0.427273             0.250000                   0.500000   \n",
       "75%               0.553360             0.333333                   1.000000   \n",
       "max               0.800000             0.625000                   1.000000   \n",
       "\n",
       "       HomeAttackingStrength  HomeDefensiveStrength  AwayAttackingStrength  \\\n",
       "count            8487.000000            8487.000000            8487.000000   \n",
       "mean                0.961008               0.980424               0.733708   \n",
       "std                 0.236319               0.185241               0.175193   \n",
       "min                 0.479485               0.573626               0.396516   \n",
       "25%                 0.792123               0.863653               0.607396   \n",
       "50%                 0.904006               0.997947               0.687938   \n",
       "75%                 1.104139               1.098782               0.836260   \n",
       "max                 1.560087               1.559351               1.225289   \n",
       "\n",
       "       AwayDefensiveStrength  \n",
       "count            8487.000000  \n",
       "mean                1.279707  \n",
       "std                 0.227830  \n",
       "min                 0.576807  \n",
       "25%                 1.091955  \n",
       "50%                 1.332542  \n",
       "75%                 1.442390  \n",
       "max                 2.061906  \n",
       "\n",
       "[8 rows x 33 columns]"
      ]
     },
     "execution_count": 3,
     "metadata": {},
     "output_type": "execute_result"
    }
   ],
   "source": [
    "# describing key statistical parameters for each feature\n",
    "data_train.describe()"
   ]
  },
  {
   "cell_type": "markdown",
   "id": "b9368404",
   "metadata": {},
   "source": [
    "# Data Transformation & Exploration\n",
    "\n",
    "Next, the Date data was converted into a pandas datetime object and the the some of the empty cells from the external features have been turned into the means. In addition, the differences for each features were investigated for a certain past number of games.\n",
    "\n",
    "Lastly, the correlation matrix for each differential feature as well as the box plots for the features that have been added through the use of external sources or formuale have been generated."
   ]
  },
  {
   "cell_type": "code",
   "execution_count": 4,
   "id": "31b97f3a",
   "metadata": {},
   "outputs": [],
   "source": [
    "# converting date column to pandas datetime opbjects\n",
    "data_train[\"Date\"] = pd.to_datetime(data_train[\"Date\"],dayfirst=True)\n",
    "data_test[\"Date\"] = pd.to_datetime(data_test[\"Date\"],dayfirst=True)"
   ]
  },
  {
   "cell_type": "code",
   "execution_count": 5,
   "id": "17ac002d",
   "metadata": {},
   "outputs": [],
   "source": [
    "# creating mean values to fill the empty cells\n",
    "data_train=data_train.fillna({\"Hrating\":data_train[\"Hrating\"].mean(),\"Arating\":data_train[\"Arating\"].mean(),\"HPoss%\":data_train[\"HPoss%\"].mean(),\"APoss%\":data_train[\"APoss%\"].mean(),\"Hpass%\":data_train[\"Hpass%\"].mean(),\"Apass%\":data_train[\"Apass%\"].mean()})"
   ]
  },
  {
   "cell_type": "code",
   "execution_count": 6,
   "id": "8dfedf0b",
   "metadata": {},
   "outputs": [],
   "source": [
    "# Define function to compute a rolling average of difference between selected numeric features \n",
    "# for past n matches of both teams in each matchup\n",
    "def get_rolling_average(data,team,n,date):\n",
    "    features = [\"FTHG\",\"FTAG\",\"HTHG\",\"HTAG\",\"HS\",\"AS\",\"HST\",\"AST\",\"HC\",\"AC\",\"HF\",\"AF\",\"HY\",\"AY\",\"HR\",\"AR\",\"HPoss%\",\"APoss%\",\"Hpass%\",\"Apass%\"]\n",
    "    numerics = ['int16', 'int32', 'int64']\n",
    "    team_matches = data[((data[\"HomeTeam\"]==team) | (data[\"AwayTeam\"]==team)) & (data[\"Date\"]<date)]\n",
    "    if len(team_matches)<n:\n",
    "        return pd.DataFrame()\n",
    "    else:\n",
    "        n_matches = team_matches.iloc[-n:,:]\n",
    "        match_data = []\n",
    "        for i in range(n):\n",
    "            dt = []\n",
    "            for f in range(0,len(features),2):\n",
    "                dt.append(n_matches.iloc[i][features[f]]-n_matches.iloc[i][features[f+1]])\n",
    "            if n_matches.iloc[i][\"AwayTeam\"] == team:\n",
    "                dt = [-1*x for x in dt]\n",
    "            match_data.append(dt)\n",
    "        match_data = pd.DataFrame(match_data)\n",
    "        means = pd.DataFrame(match_data.mean(axis=0)).T\n",
    "        return means"
   ]
  },
  {
   "cell_type": "code",
   "execution_count": 7,
   "id": "c59efc51",
   "metadata": {},
   "outputs": [],
   "source": [
    "#Define function to computer differences of all extra non rolling average features for both teams\n",
    "def get_extra_features(data,index):\n",
    "    instance = data.iloc[index]\n",
    "    ext_features = [\"HomeTeamElo\",\"AwayTeamElo\",\"Hrating\",\"Arating\",\"HomeAttackingStrength\",\"AwayAttackingStrength\",\"HomeDefensiveStrength\",\"AwayDefensiveStrength\",\"HomeMatchupWinRate\",\"AwayMatchupWinRate\",\"HomeTeamHomeWinrate\",\"AwayTeamAwayWinrate\"]\n",
    "    extra_f = []\n",
    "    for f in range(0,len(ext_features),2):\n",
    "        extra_f.append(data.iloc[index][ext_features[f]]-data.iloc[index][ext_features[f+1]])\n",
    "    return pd.DataFrame(extra_f).T"
   ]
  },
  {
   "cell_type": "code",
   "execution_count": null,
   "id": "c75c6ea3",
   "metadata": {},
   "outputs": [],
   "source": []
  },
  {
   "cell_type": "code",
   "execution_count": 8,
   "id": "8995ab9b",
   "metadata": {},
   "outputs": [
    {
     "data": {
      "text/plain": [
       "'Visual.csv'"
      ]
     },
     "execution_count": 8,
     "metadata": {},
     "output_type": "execute_result"
    }
   ],
   "source": [
    "# Copying training csv file to create a editable copy of the data for\n",
    "# visulisation purposes\n",
    "shutil.copyfile(\"epl_train_final.csv\",\"Visual.csv\")"
   ]
  },
  {
   "cell_type": "code",
   "execution_count": 9,
   "id": "d7895ff9",
   "metadata": {},
   "outputs": [],
   "source": [
    "# Reading the new csv file\n",
    "visual = pd.read_csv(\"Visual.csv\")"
   ]
  },
  {
   "cell_type": "code",
   "execution_count": 10,
   "id": "4e5bf296",
   "metadata": {},
   "outputs": [],
   "source": [
    "# Substituting NAN of each column values with the mean value\n",
    "list1 = list(visual)\n",
    "for i in range(10,23):\n",
    "    x = visual[list1[i]].mean()\n",
    "    visual[list1[i]].fillna(x,inplace=True)"
   ]
  },
  {
   "cell_type": "code",
   "execution_count": 11,
   "id": "c4139d02",
   "metadata": {},
   "outputs": [
    {
     "name": "stdout",
     "output_type": "stream",
     "text": [
      "Date                            1\n",
      "HomeTeam                        1\n",
      "AwayTeam                        1\n",
      "FTHG                            1\n",
      "FTAG                            1\n",
      "FTR                             1\n",
      "HTHG                            1\n",
      "HTAG                            1\n",
      "HTR                             1\n",
      "Referee                         1\n",
      "HS                              0\n",
      "AS                              0\n",
      "HST                             0\n",
      "AST                             0\n",
      "HC                              0\n",
      "AC                              0\n",
      "HF                              0\n",
      "AF                              0\n",
      "HY                              0\n",
      "AY                              0\n",
      "HR                              0\n",
      "AR                              0\n",
      "HomeTeamElo                     0\n",
      "AwayTeamElo                     0\n",
      "HPoss%                       3421\n",
      "APoss%                       3421\n",
      "Hpass%                       3421\n",
      "Apass%                       3421\n",
      "Hrating                      3421\n",
      "Arating                      3421\n",
      "HomeMatchupWinRate              1\n",
      "AwayMatchupWinRate              1\n",
      "HomeTeamHomeWinrate             0\n",
      "AwayTeamAwayWinrate             0\n",
      "HomePreviousMatchupResult       1\n",
      "HomeAttackingStrength           0\n",
      "HomeDefensiveStrength           0\n",
      "AwayAttackingStrength           0\n",
      "AwayDefensiveStrength           0\n",
      "dtype: int64\n"
     ]
    }
   ],
   "source": [
    "# Checking for NAN values for each feature\n",
    "print(visual.isnull().sum())"
   ]
  },
  {
   "cell_type": "code",
   "execution_count": 12,
   "id": "7abdd681",
   "metadata": {},
   "outputs": [],
   "source": [
    "# Calculating the difference between each additional feature added to the \n",
    "# training data\n",
    "visual[\"DefensiveStrength_Diff\"]= visual[\"HomeDefensiveStrength\"]- visual[\"AwayDefensiveStrength\"]\n",
    "visual[\"AttackingStrength_Diff\"]= visual[\"HomeAttackingStrength\"]- visual[\"AwayAttackingStrength\"]\n",
    "visual[\"Rating_Diff\"]= visual[\"Hrating\"]- visual[\"Arating\"]\n",
    "visual[\"Pass%_Diff\"]= visual[\"Hpass%\"]- visual[\"Apass%\"]\n",
    "visual[\"Poss%_Diff\"]= visual[\"HPoss%\"]- visual[\"APoss%\"]\n",
    "visual[\"Elo_Diff\"] = visual[\"HomeTeamElo\"] - visual[\"AwayTeamElo\"]\n",
    "visual[\"Rating_Diff\"] = visual[\"Hrating\"] -visual[\"Arating\"]\n",
    "visual[\"MatchupWinRate_Diff\"] = visual[\"HomeMatchupWinRate\"] - visual[\"AwayMatchupWinRate\"]\n",
    "visual[\"TeamWinrate\"] = visual[\"HomeTeamHomeWinrate\"] -visual[\"AwayTeamAwayWinrate\"]"
   ]
  },
  {
   "cell_type": "code",
   "execution_count": 13,
   "id": "534a35e9",
   "metadata": {},
   "outputs": [],
   "source": [
    "# Calculating the difference between each original feature given in the training \n",
    "# data\n",
    "visual[\"FTHG_Diff\"] = visual[\"FTHG\"]-visual[\"FTAG\"]\n",
    "visual[\"HTHG_Diff\"] = visual[\"HTHG\"] -visual[\"HTAG\"]\n",
    "visual[\"HS_Diff\"] = visual[\"HS\"] - visual[\"AS\"]\n",
    "visual[\"HST_Diff\"] = visual[\"HST\"] -visual[\"AST\"]\n",
    "visual[\"HF_Diff\"] = visual[\"HF\"] -visual[\"AF\"]\n",
    "visual[\"HC_Diff\"] = visual[\"HC\"] -visual[\"AC\"]\n",
    "visual[\"HY_Diff\"] = visual[\"HY\"] -visual[\"AY\"]\n",
    "visual[\"HR_Diff\"] = visual[\"HR\"] -visual[\"AR\"]"
   ]
  },
  {
   "cell_type": "code",
   "execution_count": 14,
   "id": "12ab92ec",
   "metadata": {},
   "outputs": [],
   "source": [
    "# Finding the moving averages of original training data\n",
    "n= 10\n",
    "visual[\"MAFTHG_diff\"] = visual[\"FTHG_Diff\"].rolling(n).mean()\n",
    "visual[\"MAHTHG_Diff\"] = visual[\"HTHG_Diff\"].rolling(n).mean()\n",
    "visual[\"MAHS_Diff\"] = visual[\"HS_Diff\"].rolling(n).mean()\n",
    "visual[\"MAHST_Diff\"] = visual[\"HST_Diff\"].rolling(n).mean()\n",
    "visual[\"MAHF_Diff\"] = visual[\"HF_Diff\"].rolling(n).mean()\n",
    "visual[\"MAHC_Diff\"] = visual[\"HC_Diff\"].rolling(n).mean()\n",
    "visual[\"MAHY_Diff\"] = visual[\"HY_Diff\"].rolling(n).mean()\n",
    "visual[\"MAHR_Diff\"] = visual[\"HR_Diff\"].rolling(n).mean()"
   ]
  },
  {
   "cell_type": "code",
   "execution_count": 15,
   "id": "767de285",
   "metadata": {},
   "outputs": [
    {
     "data": {
      "text/plain": [
       "0       0.333333\n",
       "1       0.333333\n",
       "2       0.333333\n",
       "3       0.333333\n",
       "4       0.333333\n",
       "          ...   \n",
       "8482    0.254054\n",
       "8483    0.271663\n",
       "8484    0.360656\n",
       "8485    0.111111\n",
       "8486    0.243243\n",
       "Name: AwayTeamAwayWinrate, Length: 8487, dtype: float64"
      ]
     },
     "execution_count": 15,
     "metadata": {},
     "output_type": "execute_result"
    }
   ],
   "source": [
    "# Removing unnessesary features from the dataset (As differences and moving\n",
    "# averages will be used instead).\n",
    "visual.pop(\"FTHG\")\n",
    "visual.pop(\"FTAG\")\n",
    "visual.pop(\"HTHG\")\n",
    "visual.pop(\"HTAG\")\n",
    "visual.pop(\"HS\")\n",
    "visual.pop(\"AS\")\n",
    "visual.pop(\"HST\")\n",
    "visual.pop(\"AST\")\n",
    "visual.pop(\"HF\")\n",
    "visual.pop(\"AF\")\n",
    "visual.pop(\"HC\")\n",
    "visual.pop(\"AC\")\n",
    "visual.pop(\"HY\")\n",
    "visual.pop(\"AY\")\n",
    "visual.pop(\"HR\")\n",
    "visual.pop(\"AR\")\n",
    "visual.pop(\"HomeTeamElo\")\n",
    "visual.pop(\"AwayTeamElo\")\n",
    "visual.pop(\"FTHG_Diff\")\n",
    "visual.pop(\"HTHG_Diff\")\n",
    "visual.pop(\"HS_Diff\")\n",
    "visual.pop(\"HST_Diff\")\n",
    "visual.pop(\"HF_Diff\")\n",
    "visual.pop(\"HC_Diff\")\n",
    "visual.pop(\"HY_Diff\")\n",
    "visual.pop(\"HR_Diff\")\n",
    "visual.pop(\"HomeDefensiveStrength\")\n",
    "visual.pop(\"AwayDefensiveStrength\")\n",
    "visual.pop(\"HomeAttackingStrength\")\n",
    "visual.pop(\"AwayAttackingStrength\")\n",
    "visual.pop(\"Hrating\")\n",
    "visual.pop(\"Arating\")\n",
    "visual.pop(\"Hpass%\")\n",
    "visual.pop(\"Apass%\")\n",
    "visual.pop(\"HPoss%\")\n",
    "visual.pop(\"APoss%\")\n",
    "visual.pop(\"HomeMatchupWinRate\")\n",
    "visual.pop(\"AwayMatchupWinRate\")\n",
    "visual.pop(\"HomeTeamHomeWinrate\")\n",
    "visual.pop(\"AwayTeamAwayWinrate\")"
   ]
  },
  {
   "cell_type": "code",
   "execution_count": 16,
   "id": "123b33f5",
   "metadata": {},
   "outputs": [
    {
     "data": {
      "text/plain": [
       "<AxesSubplot: >"
      ]
     },
     "execution_count": 16,
     "metadata": {},
     "output_type": "execute_result"
    },
    {
     "data": {
      "image/png": "[encoded data removed]",
      "text/plain": [
       "<Figure size 576x360 with 2 Axes>"
      ]
     },
     "metadata": {
      "needs_background": "light"
     },
     "output_type": "display_data"
    }
   ],
   "source": [
    "# Creating correlation matrix\n",
    "# Adjusting figure size for Correlation matrix\n",
    "plt.figure(figsize=(8, 5))\n",
    "# Creating a correlation matrix using visual.corr() and using seaborn to visualise\n",
    "# this as a heatmap\n",
    "sns.heatmap(visual.corr(numeric_only = True))"
   ]
  },
  {
   "cell_type": "code",
   "execution_count": 17,
   "id": "2f3128c9",
   "metadata": {},
   "outputs": [
    {
     "data": {
      "image/png": "[encoded data removed]",
      "text/plain": [
       "<Figure size 432x288 with 1 Axes>"
      ]
     },
     "metadata": {
      "needs_background": "light"
     },
     "output_type": "display_data"
    }
   ],
   "source": [
    "# Creating boxplots for home and away team Elo score Difference vs FTR\n",
    "bplot1 = sns.boxplot(y='Elo_Diff', x='FTR', \n",
    "                 data=visual, \n",
    "                 width=0.5,\n",
    "                 palette=\"colorblind\")"
   ]
  },
  {
   "cell_type": "code",
   "execution_count": 18,
   "id": "9c850178",
   "metadata": {},
   "outputs": [
    {
     "data": {
      "image/png": "[encoded data removed]",
      "text/plain": [
       "<Figure size 432x288 with 1 Axes>"
      ]
     },
     "metadata": {
      "needs_background": "light"
     },
     "output_type": "display_data"
    }
   ],
   "source": [
    "# Creating boxplots for home and away team possession percentage Difference vs FTR\n",
    "bplot2 = sns.boxplot(y='Poss%_Diff', x='FTR', \n",
    "                 data=visual, \n",
    "                 width=0.5,\n",
    "                 palette=\"colorblind\")"
   ]
  },
  {
   "cell_type": "code",
   "execution_count": 19,
   "id": "be426841",
   "metadata": {},
   "outputs": [
    {
     "data": {
      "image/png": "[encoded data removed]",
      "text/plain": [
       "<Figure size 432x288 with 1 Axes>"
      ]
     },
     "metadata": {
      "needs_background": "light"
     },
     "output_type": "display_data"
    }
   ],
   "source": [
    "# Creating boxplots for home and away team passes accuracy percentage Difference vs FTR\n",
    "bplot3 = sns.boxplot(y='Pass%_Diff', x='FTR', \n",
    "                 data=visual, \n",
    "                 width=0.5,\n",
    "                 palette=\"colorblind\")"
   ]
  },
  {
   "cell_type": "code",
   "execution_count": 20,
   "id": "f7c8118f",
   "metadata": {},
   "outputs": [
    {
     "data": {
      "image/png": "[encoded data removed]",
      "text/plain": [
       "<Figure size 432x288 with 1 Axes>"
      ]
     },
     "metadata": {
      "needs_background": "light"
     },
     "output_type": "display_data"
    }
   ],
   "source": [
    "# Creating boxplots for home and away team rating Difference vs FTR\n",
    "bplot4 = sns.boxplot(y='Rating_Diff', x='FTR', \n",
    "                 data=visual, \n",
    "                 width=0.5,\n",
    "                 palette=\"colorblind\")"
   ]
  },
  {
   "cell_type": "code",
   "execution_count": 21,
   "id": "bd6c3f46",
   "metadata": {},
   "outputs": [
    {
     "data": {
      "image/png": "[encoded data removed]",
      "text/plain": [
       "<Figure size 432x288 with 1 Axes>"
      ]
     },
     "metadata": {
      "needs_background": "light"
     },
     "output_type": "display_data"
    }
   ],
   "source": [
    "# Creating boxplots for home and away team matchup win rate Difference vs FTR\n",
    "bplot5 = sns.boxplot(y='MatchupWinRate_Diff', x='FTR', \n",
    "                 data=visual, \n",
    "                 width=0.5,\n",
    "                 palette=\"colorblind\")"
   ]
  },
  {
   "cell_type": "code",
   "execution_count": 22,
   "id": "6a9a3399",
   "metadata": {},
   "outputs": [
    {
     "data": {
      "image/png": "[encoded data removed]",
      "text/plain": [
       "<Figure size 432x288 with 1 Axes>"
      ]
     },
     "metadata": {
      "needs_background": "light"
     },
     "output_type": "display_data"
    }
   ],
   "source": [
    "# Creating boxplots for home and away team attacking strength Difference vs FTR\n",
    "bplot6 = sns.boxplot(y='AttackingStrength_Diff', x='FTR', \n",
    "                 data=visual, \n",
    "                 width=0.5,\n",
    "                 palette=\"colorblind\")"
   ]
  },
  {
   "cell_type": "code",
   "execution_count": null,
   "id": "c30fe7a8",
   "metadata": {},
   "outputs": [],
   "source": []
  },
  {
   "cell_type": "code",
   "execution_count": 23,
   "id": "9e0b6532",
   "metadata": {},
   "outputs": [],
   "source": [
    "# initialise final training features and labels\n",
    "X = pd.DataFrame()\n",
    "Y_class = []\n",
    "Y_reg = []"
   ]
  },
  {
   "cell_type": "code",
   "execution_count": 24,
   "id": "8c869a1f",
   "metadata": {},
   "outputs": [],
   "source": [
    "# for each matchup check if both teams have played n matches if so \n",
    "# include the rolling avg of the difference of both teams in the training features\n",
    "# also include the match outcome and goal diff in the classification and regression labels respectively\n",
    "n = 8\n",
    "for i in range(len(data_train)):\n",
    "    date = data_train.loc[i,\"Date\"]\n",
    "    ht = data_train.loc[i,\"HomeTeam\"]\n",
    "    at = data_train.loc[i,\"AwayTeam\"]\n",
    "    rolling_avg_ht = get_rolling_average(data_train,ht,n,date)\n",
    "    rolling_avg_at = get_rolling_average(data_train,at,n,date)\n",
    "    if not (rolling_avg_ht.empty or rolling_avg_at.empty):\n",
    "        extra_features = get_extra_features(data_train,i)\n",
    "        X = pd.concat([X, pd.concat([rolling_avg_ht-rolling_avg_at,extra_features],axis=1)], axis=0)\n",
    "        Y_class.append(data_train.iloc[i][\"FTR\"])\n",
    "        Y_reg.append(data_train.iloc[i][\"FTHG\"]-data_train.iloc[i][\"FTAG\"])"
   ]
  },
  {
   "cell_type": "code",
   "execution_count": 25,
   "id": "29eb9b68",
   "metadata": {},
   "outputs": [],
   "source": [
    "# scale each feature in the training dataset\n",
    "for col in X.columns:\n",
    "    X[col] = scale(X[col])"
   ]
  },
  {
   "cell_type": "code",
   "execution_count": 26,
   "id": "9767ccff",
   "metadata": {},
   "outputs": [],
   "source": [
    "# Define function to compute the accuracy of the predictions compared to the actual outcomes\n",
    "def get_accuracy(target,pred):\n",
    "    correct = 0\n",
    "    for i in range(len(target)):\n",
    "        if target[i] == pred[i]:\n",
    "            correct += 1\n",
    "    return correct/len(target)"
   ]
  },
  {
   "cell_type": "markdown",
   "id": "93b3de15",
   "metadata": {},
   "source": [
    "# Methodology Overview"
   ]
  },
  {
   "cell_type": "markdown",
   "id": "381dec50",
   "metadata": {},
   "source": [
    "Extra features including Elo rating, Win rate, Team strength, Matchup win rate, Pass percentage, Possession percentage for both Home and Away team for each matchup in both train and test dataset were calculated and integrated into the initial given dataset, which was then exported and used at the beginning of this notebook. Code for these calculations can be found at the end of this notebook in the \"Appendix\" section."
   ]
  },
  {
   "cell_type": "markdown",
   "id": "3a918a24",
   "metadata": {},
   "source": [
    "# Model Training & Validation\n",
    "\n",
    "In this part of the notebook, the initial dataset was split into training and test set for both classification and regression. A stratified validation set for the labelled set was created in order to split the outcomes evenly. Next, 6 classifiers and 4 regressors models were introduced. These are:\n",
    "\n",
    "- Logistic Regression\n",
    "\n",
    "- Support Vector Classifier \n",
    "\n",
    "- Multi-Layer Perceptron Classifier\n",
    "\n",
    "- k-Nearest Neighbour Classifier\n",
    "\n",
    "- Random Forest Classifier\n",
    "\n",
    "- Gaussian Naive Bayes Classifier\n",
    "\n",
    "- Random Forest Regressor\n",
    "\n",
    "- Linear Regression\n",
    "\n",
    "- Support Vector Regressor\n",
    "\n",
    "- Multi-Layer Perceptron Regressor\n",
    "\n",
    "Grid search was imported from Scikit learn to figure out the best set of hyperparamters for the models that have these. During this process, a stratified k-fold cross validation of 5 and 10 were used. For some models, like the Linear regression and the Gaussian naive bayes, there was no hyperparameters to improve on, so it was left empty."
   ]
  },
  {
   "cell_type": "code",
   "execution_count": 27,
   "id": "4a445db2",
   "metadata": {},
   "outputs": [],
   "source": [
    "# split training dataset to trainig and test set using 67% of the data to train the model and 33% for testing\n",
    "# this was done for both classification and regression models\n",
    "X_train_class, X_test_class,y_train_class, y_test_class = train_test_split(X,Y_class,test_size=0.33, random_state=42, stratify = Y_class)\n",
    "\n",
    "X_train_reg, X_test_reg,y_train_reg, y_test_reg = train_test_split(X,Y_reg,test_size=0.33, random_state=42, stratify = Y_class)"
   ]
  },
  {
   "cell_type": "code",
   "execution_count": 28,
   "id": "fd04d836",
   "metadata": {},
   "outputs": [],
   "source": [
    "# defining a new parameter that shows all the results for each combination of hyperparametrs highlighting the best one\n",
    "def display(results):\n",
    "    print(f'Best parameters are: {results.best_params_}')\n",
    "    print(\"\\n\")\n",
    "    mean_score = results.cv_results_['mean_test_score']\n",
    "    std_score = results.cv_results_['std_test_score']\n",
    "    params = results.cv_results_['params']\n",
    "    for mean,std,params in zip(mean_score,std_score,params):\n",
    "        print(f'{round(mean,3)} + or -{round(std,3)} for the {params}')"
   ]
  },
  {
   "cell_type": "code",
   "execution_count": null,
   "id": "27f0e3a5",
   "metadata": {},
   "outputs": [],
   "source": []
  },
  {
   "cell_type": "code",
   "execution_count": 29,
   "id": "c3026dfc",
   "metadata": {},
   "outputs": [],
   "source": [
    "# loading Random Forest Classifier with different hyperparameters\n",
    "rfc = RandomForestClassifier()\n",
    "parameters = {\n",
    "    \"n_estimators\":[5,10,50,100,250],\n",
    "    \"max_depth\":[2,4,8,16,32,None]\n",
    "    \n",
    "}"
   ]
  },
  {
   "cell_type": "code",
   "execution_count": 30,
   "id": "eb7aeba0",
   "metadata": {},
   "outputs": [
    {
     "data": {
      "text/html": [
       "<style>#sk-container-id-1 {color: black;background-color: white;}#sk-container-id-1 pre{padding: 0;}#sk-container-id-1 div.sk-toggleable {background-color: white;}#sk-container-id-1 label.sk-toggleable__label {cursor: pointer;display: block;width: 100%;margin-bottom: 0;padding: 0.3em;box-sizing: border-box;text-align: center;}#sk-container-id-1 label.sk-toggleable__label-arrow:before {content: \"▸\";float: left;margin-right: 0.25em;color: #696969;}#sk-container-id-1 label.sk-toggleable__label-arrow:hover:before {color: black;}#sk-container-id-1 div.sk-estimator:hover label.sk-toggleable__label-arrow:before {color: black;}#sk-container-id-1 div.sk-toggleable__content {max-height: 0;max-width: 0;overflow: hidden;text-align: left;background-color: #f0f8ff;}#sk-container-id-1 div.sk-toggleable__content pre {margin: 0.2em;color: black;border-radius: 0.25em;background-color: #f0f8ff;}#sk-container-id-1 input.sk-toggleable__control:checked~div.sk-toggleable__content {max-height: 200px;max-width: 100%;overflow: auto;}#sk-container-id-1 input.sk-toggleable__control:checked~label.sk-toggleable__label-arrow:before {content: \"▾\";}#sk-container-id-1 div.sk-estimator input.sk-toggleable__control:checked~label.sk-toggleable__label {background-color: #d4ebff;}#sk-container-id-1 div.sk-label input.sk-toggleable__control:checked~label.sk-toggleable__label {background-color: #d4ebff;}#sk-container-id-1 input.sk-hidden--visually {border: 0;clip: rect(1px 1px 1px 1px);clip: rect(1px, 1px, 1px, 1px);height: 1px;margin: -1px;overflow: hidden;padding: 0;position: absolute;width: 1px;}#sk-container-id-1 div.sk-estimator {font-family: monospace;background-color: #f0f8ff;border: 1px dotted black;border-radius: 0.25em;box-sizing: border-box;margin-bottom: 0.5em;}#sk-container-id-1 div.sk-estimator:hover {background-color: #d4ebff;}#sk-container-id-1 div.sk-parallel-item::after {content: \"\";width: 100%;border-bottom: 1px solid gray;flex-grow: 1;}#sk-container-id-1 div.sk-label:hover label.sk-toggleable__label {background-color: #d4ebff;}#sk-container-id-1 div.sk-serial::before {content: \"\";position: absolute;border-left: 1px solid gray;box-sizing: border-box;top: 0;bottom: 0;left: 50%;z-index: 0;}#sk-container-id-1 div.sk-serial {display: flex;flex-direction: column;align-items: center;background-color: white;padding-right: 0.2em;padding-left: 0.2em;position: relative;}#sk-container-id-1 div.sk-item {position: relative;z-index: 1;}#sk-container-id-1 div.sk-parallel {display: flex;align-items: stretch;justify-content: center;background-color: white;position: relative;}#sk-container-id-1 div.sk-item::before, #sk-container-id-1 div.sk-parallel-item::before {content: \"\";position: absolute;border-left: 1px solid gray;box-sizing: border-box;top: 0;bottom: 0;left: 50%;z-index: -1;}#sk-container-id-1 div.sk-parallel-item {display: flex;flex-direction: column;z-index: 1;position: relative;background-color: white;}#sk-container-id-1 div.sk-parallel-item:first-child::after {align-self: flex-end;width: 50%;}#sk-container-id-1 div.sk-parallel-item:last-child::after {align-self: flex-start;width: 50%;}#sk-container-id-1 div.sk-parallel-item:only-child::after {width: 0;}#sk-container-id-1 div.sk-dashed-wrapped {border: 1px dashed gray;margin: 0 0.4em 0.5em 0.4em;box-sizing: border-box;padding-bottom: 0.4em;background-color: white;}#sk-container-id-1 div.sk-label label {font-family: monospace;font-weight: bold;display: inline-block;line-height: 1.2em;}#sk-container-id-1 div.sk-label-container {text-align: center;}#sk-container-id-1 div.sk-container {/* jupyter's `normalize.less` sets `[hidden] { display: none; }` but bootstrap.min.css set `[hidden] { display: none !important; }` so we also need the `!important` here to be able to override the default hidden behavior on the sphinx rendered scikit-learn.org. See: https://github.com/scikit-learn/scikit-learn/issues/21755 */display: inline-block !important;position: relative;}#sk-container-id-1 div.sk-text-repr-fallback {display: none;}</style><div id=\"sk-container-id-1\" class=\"sk-top-container\"><div class=\"sk-text-repr-fallback\"><pre>GridSearchCV(cv=10, estimator=RandomForestClassifier(),\n",
       "             param_grid={&#x27;max_depth&#x27;: [2, 4, 8, 16, 32, None],\n",
       "                         &#x27;n_estimators&#x27;: [5, 10, 50, 100, 250]})</pre><b>In a Jupyter environment, please rerun this cell to show the HTML representation or trust the notebook. <br />On GitHub, the HTML representation is unable to render, please try loading this page with nbviewer.org.</b></div><div class=\"sk-container\" hidden><div class=\"sk-item sk-dashed-wrapped\"><div class=\"sk-label-container\"><div class=\"sk-label sk-toggleable\"><input class=\"sk-toggleable__control sk-hidden--visually\" id=\"sk-estimator-id-1\" type=\"checkbox\" ><label for=\"sk-estimator-id-1\" class=\"sk-toggleable__label sk-toggleable__label-arrow\">GridSearchCV</label><div class=\"sk-toggleable__content\"><pre>GridSearchCV(cv=10, estimator=RandomForestClassifier(),\n",
       "             param_grid={&#x27;max_depth&#x27;: [2, 4, 8, 16, 32, None],\n",
       "                         &#x27;n_estimators&#x27;: [5, 10, 50, 100, 250]})</pre></div></div></div><div class=\"sk-parallel\"><div class=\"sk-parallel-item\"><div class=\"sk-item\"><div class=\"sk-label-container\"><div class=\"sk-label sk-toggleable\"><input class=\"sk-toggleable__control sk-hidden--visually\" id=\"sk-estimator-id-2\" type=\"checkbox\" ><label for=\"sk-estimator-id-2\" class=\"sk-toggleable__label sk-toggleable__label-arrow\">estimator: RandomForestClassifier</label><div class=\"sk-toggleable__content\"><pre>RandomForestClassifier()</pre></div></div></div><div class=\"sk-serial\"><div class=\"sk-item\"><div class=\"sk-estimator sk-toggleable\"><input class=\"sk-toggleable__control sk-hidden--visually\" id=\"sk-estimator-id-3\" type=\"checkbox\" ><label for=\"sk-estimator-id-3\" class=\"sk-toggleable__label sk-toggleable__label-arrow\">RandomForestClassifier</label><div class=\"sk-toggleable__content\"><pre>RandomForestClassifier()</pre></div></div></div></div></div></div></div></div></div></div>"
      ],
      "text/plain": [
       "GridSearchCV(cv=10, estimator=RandomForestClassifier(),\n",
       "             param_grid={'max_depth': [2, 4, 8, 16, 32, None],\n",
       "                         'n_estimators': [5, 10, 50, 100, 250]})"
      ]
     },
     "execution_count": 30,
     "metadata": {},
     "output_type": "execute_result"
    }
   ],
   "source": [
    "# loading grid search that uses a cross validation of 10 stratified folds for the training set\n",
    "cv = GridSearchCV(rfc,parameters,cv=10)\n",
    "cv.fit(X_train_class, y_train_class)"
   ]
  },
  {
   "cell_type": "code",
   "execution_count": 31,
   "id": "6a871be1",
   "metadata": {},
   "outputs": [
    {
     "name": "stdout",
     "output_type": "stream",
     "text": [
      "Best parameters are: {'max_depth': 8, 'n_estimators': 250}\n",
      "\n",
      "\n",
      "0.527 + or -0.012 for the {'max_depth': 2, 'n_estimators': 5}\n",
      "0.532 + or -0.015 for the {'max_depth': 2, 'n_estimators': 10}\n",
      "0.534 + or -0.015 for the {'max_depth': 2, 'n_estimators': 50}\n",
      "0.535 + or -0.015 for the {'max_depth': 2, 'n_estimators': 100}\n",
      "0.536 + or -0.014 for the {'max_depth': 2, 'n_estimators': 250}\n",
      "0.534 + or -0.019 for the {'max_depth': 4, 'n_estimators': 5}\n",
      "0.538 + or -0.015 for the {'max_depth': 4, 'n_estimators': 10}\n",
      "0.539 + or -0.017 for the {'max_depth': 4, 'n_estimators': 50}\n",
      "0.539 + or -0.017 for the {'max_depth': 4, 'n_estimators': 100}\n",
      "0.539 + or -0.015 for the {'max_depth': 4, 'n_estimators': 250}\n",
      "0.521 + or -0.017 for the {'max_depth': 8, 'n_estimators': 5}\n",
      "0.528 + or -0.02 for the {'max_depth': 8, 'n_estimators': 10}\n",
      "0.539 + or -0.014 for the {'max_depth': 8, 'n_estimators': 50}\n",
      "0.539 + or -0.014 for the {'max_depth': 8, 'n_estimators': 100}\n",
      "0.543 + or -0.017 for the {'max_depth': 8, 'n_estimators': 250}\n",
      "0.472 + or -0.014 for the {'max_depth': 16, 'n_estimators': 5}\n",
      "0.498 + or -0.015 for the {'max_depth': 16, 'n_estimators': 10}\n",
      "0.523 + or -0.014 for the {'max_depth': 16, 'n_estimators': 50}\n",
      "0.525 + or -0.019 for the {'max_depth': 16, 'n_estimators': 100}\n",
      "0.532 + or -0.015 for the {'max_depth': 16, 'n_estimators': 250}\n",
      "0.441 + or -0.014 for the {'max_depth': 32, 'n_estimators': 5}\n",
      "0.477 + or -0.021 for the {'max_depth': 32, 'n_estimators': 10}\n",
      "0.52 + or -0.012 for the {'max_depth': 32, 'n_estimators': 50}\n",
      "0.523 + or -0.012 for the {'max_depth': 32, 'n_estimators': 100}\n",
      "0.526 + or -0.013 for the {'max_depth': 32, 'n_estimators': 250}\n",
      "0.455 + or -0.022 for the {'max_depth': None, 'n_estimators': 5}\n",
      "0.486 + or -0.024 for the {'max_depth': None, 'n_estimators': 10}\n",
      "0.519 + or -0.018 for the {'max_depth': None, 'n_estimators': 50}\n",
      "0.521 + or -0.018 for the {'max_depth': None, 'n_estimators': 100}\n",
      "0.526 + or -0.018 for the {'max_depth': None, 'n_estimators': 250}\n"
     ]
    }
   ],
   "source": [
    "# displaying the results\n",
    "display(cv)"
   ]
  },
  {
   "cell_type": "code",
   "execution_count": 32,
   "id": "05f848b9",
   "metadata": {},
   "outputs": [
    {
     "name": "stdout",
     "output_type": "stream",
     "text": [
      "0.558714918759232\n"
     ]
    }
   ],
   "source": [
    "# prediction parameter using the best hyperparameters\n",
    "rfc_prediction = cv.predict(X_test_class)\n",
    "\n",
    "# print(classification_report(y_test_class,prediction_class))\n",
    "print(get_accuracy(y_test_class,rfc_prediction))"
   ]
  },
  {
   "cell_type": "code",
   "execution_count": null,
   "id": "09b2b002",
   "metadata": {},
   "outputs": [],
   "source": []
  },
  {
   "cell_type": "code",
   "execution_count": 33,
   "id": "b66efe1b",
   "metadata": {},
   "outputs": [
    {
     "data": {
      "text/html": [
       "<style>#sk-container-id-2 {color: black;background-color: white;}#sk-container-id-2 pre{padding: 0;}#sk-container-id-2 div.sk-toggleable {background-color: white;}#sk-container-id-2 label.sk-toggleable__label {cursor: pointer;display: block;width: 100%;margin-bottom: 0;padding: 0.3em;box-sizing: border-box;text-align: center;}#sk-container-id-2 label.sk-toggleable__label-arrow:before {content: \"▸\";float: left;margin-right: 0.25em;color: #696969;}#sk-container-id-2 label.sk-toggleable__label-arrow:hover:before {color: black;}#sk-container-id-2 div.sk-estimator:hover label.sk-toggleable__label-arrow:before {color: black;}#sk-container-id-2 div.sk-toggleable__content {max-height: 0;max-width: 0;overflow: hidden;text-align: left;background-color: #f0f8ff;}#sk-container-id-2 div.sk-toggleable__content pre {margin: 0.2em;color: black;border-radius: 0.25em;background-color: #f0f8ff;}#sk-container-id-2 input.sk-toggleable__control:checked~div.sk-toggleable__content {max-height: 200px;max-width: 100%;overflow: auto;}#sk-container-id-2 input.sk-toggleable__control:checked~label.sk-toggleable__label-arrow:before {content: \"▾\";}#sk-container-id-2 div.sk-estimator input.sk-toggleable__control:checked~label.sk-toggleable__label {background-color: #d4ebff;}#sk-container-id-2 div.sk-label input.sk-toggleable__control:checked~label.sk-toggleable__label {background-color: #d4ebff;}#sk-container-id-2 input.sk-hidden--visually {border: 0;clip: rect(1px 1px 1px 1px);clip: rect(1px, 1px, 1px, 1px);height: 1px;margin: -1px;overflow: hidden;padding: 0;position: absolute;width: 1px;}#sk-container-id-2 div.sk-estimator {font-family: monospace;background-color: #f0f8ff;border: 1px dotted black;border-radius: 0.25em;box-sizing: border-box;margin-bottom: 0.5em;}#sk-container-id-2 div.sk-estimator:hover {background-color: #d4ebff;}#sk-container-id-2 div.sk-parallel-item::after {content: \"\";width: 100%;border-bottom: 1px solid gray;flex-grow: 1;}#sk-container-id-2 div.sk-label:hover label.sk-toggleable__label {background-color: #d4ebff;}#sk-container-id-2 div.sk-serial::before {content: \"\";position: absolute;border-left: 1px solid gray;box-sizing: border-box;top: 0;bottom: 0;left: 50%;z-index: 0;}#sk-container-id-2 div.sk-serial {display: flex;flex-direction: column;align-items: center;background-color: white;padding-right: 0.2em;padding-left: 0.2em;position: relative;}#sk-container-id-2 div.sk-item {position: relative;z-index: 1;}#sk-container-id-2 div.sk-parallel {display: flex;align-items: stretch;justify-content: center;background-color: white;position: relative;}#sk-container-id-2 div.sk-item::before, #sk-container-id-2 div.sk-parallel-item::before {content: \"\";position: absolute;border-left: 1px solid gray;box-sizing: border-box;top: 0;bottom: 0;left: 50%;z-index: -1;}#sk-container-id-2 div.sk-parallel-item {display: flex;flex-direction: column;z-index: 1;position: relative;background-color: white;}#sk-container-id-2 div.sk-parallel-item:first-child::after {align-self: flex-end;width: 50%;}#sk-container-id-2 div.sk-parallel-item:last-child::after {align-self: flex-start;width: 50%;}#sk-container-id-2 div.sk-parallel-item:only-child::after {width: 0;}#sk-container-id-2 div.sk-dashed-wrapped {border: 1px dashed gray;margin: 0 0.4em 0.5em 0.4em;box-sizing: border-box;padding-bottom: 0.4em;background-color: white;}#sk-container-id-2 div.sk-label label {font-family: monospace;font-weight: bold;display: inline-block;line-height: 1.2em;}#sk-container-id-2 div.sk-label-container {text-align: center;}#sk-container-id-2 div.sk-container {/* jupyter's `normalize.less` sets `[hidden] { display: none; }` but bootstrap.min.css set `[hidden] { display: none !important; }` so we also need the `!important` here to be able to override the default hidden behavior on the sphinx rendered scikit-learn.org. See: https://github.com/scikit-learn/scikit-learn/issues/21755 */display: inline-block !important;position: relative;}#sk-container-id-2 div.sk-text-repr-fallback {display: none;}</style><div id=\"sk-container-id-2\" class=\"sk-top-container\"><div class=\"sk-text-repr-fallback\"><pre>GridSearchCV(cv=5, estimator=LogisticRegression(),\n",
       "             param_grid={&#x27;C&#x27;: [0.1, 1, 10], &#x27;penalty&#x27;: [&#x27;l2&#x27;],\n",
       "                         &#x27;solver&#x27;: (&#x27;newton-cg&#x27;, &#x27;lbfgs&#x27;, &#x27;liblinear&#x27;)})</pre><b>In a Jupyter environment, please rerun this cell to show the HTML representation or trust the notebook. <br />On GitHub, the HTML representation is unable to render, please try loading this page with nbviewer.org.</b></div><div class=\"sk-container\" hidden><div class=\"sk-item sk-dashed-wrapped\"><div class=\"sk-label-container\"><div class=\"sk-label sk-toggleable\"><input class=\"sk-toggleable__control sk-hidden--visually\" id=\"sk-estimator-id-4\" type=\"checkbox\" ><label for=\"sk-estimator-id-4\" class=\"sk-toggleable__label sk-toggleable__label-arrow\">GridSearchCV</label><div class=\"sk-toggleable__content\"><pre>GridSearchCV(cv=5, estimator=LogisticRegression(),\n",
       "             param_grid={&#x27;C&#x27;: [0.1, 1, 10], &#x27;penalty&#x27;: [&#x27;l2&#x27;],\n",
       "                         &#x27;solver&#x27;: (&#x27;newton-cg&#x27;, &#x27;lbfgs&#x27;, &#x27;liblinear&#x27;)})</pre></div></div></div><div class=\"sk-parallel\"><div class=\"sk-parallel-item\"><div class=\"sk-item\"><div class=\"sk-label-container\"><div class=\"sk-label sk-toggleable\"><input class=\"sk-toggleable__control sk-hidden--visually\" id=\"sk-estimator-id-5\" type=\"checkbox\" ><label for=\"sk-estimator-id-5\" class=\"sk-toggleable__label sk-toggleable__label-arrow\">estimator: LogisticRegression</label><div class=\"sk-toggleable__content\"><pre>LogisticRegression()</pre></div></div></div><div class=\"sk-serial\"><div class=\"sk-item\"><div class=\"sk-estimator sk-toggleable\"><input class=\"sk-toggleable__control sk-hidden--visually\" id=\"sk-estimator-id-6\" type=\"checkbox\" ><label for=\"sk-estimator-id-6\" class=\"sk-toggleable__label sk-toggleable__label-arrow\">LogisticRegression</label><div class=\"sk-toggleable__content\"><pre>LogisticRegression()</pre></div></div></div></div></div></div></div></div></div></div>"
      ],
      "text/plain": [
       "GridSearchCV(cv=5, estimator=LogisticRegression(),\n",
       "             param_grid={'C': [0.1, 1, 10], 'penalty': ['l2'],\n",
       "                         'solver': ('newton-cg', 'lbfgs', 'liblinear')})"
      ]
     },
     "execution_count": 33,
     "metadata": {},
     "output_type": "execute_result"
    }
   ],
   "source": [
    "#define gridsearch parameters for logistic regression\n",
    "#fit model to train dataset with 5 fold corss validation\n",
    "parameters = {'penalty':['l2'], 'C':[0.1, 1, 10],'solver':('newton-cg', 'lbfgs', 'liblinear')}\n",
    "logreg = GridSearchCV(LogisticRegression(),parameters,cv=5)\n",
    "logreg.fit(X_train_class,y_train_class)"
   ]
  },
  {
   "cell_type": "code",
   "execution_count": 34,
   "id": "e3f4a143",
   "metadata": {},
   "outputs": [
    {
     "name": "stdout",
     "output_type": "stream",
     "text": [
      "Best parameters are: {'C': 10, 'penalty': 'l2', 'solver': 'newton-cg'}\n",
      "\n",
      "\n",
      "0.541 + or -0.014 for the {'C': 0.1, 'penalty': 'l2', 'solver': 'newton-cg'}\n",
      "0.541 + or -0.014 for the {'C': 0.1, 'penalty': 'l2', 'solver': 'lbfgs'}\n",
      "0.54 + or -0.012 for the {'C': 0.1, 'penalty': 'l2', 'solver': 'liblinear'}\n",
      "0.541 + or -0.015 for the {'C': 1, 'penalty': 'l2', 'solver': 'newton-cg'}\n",
      "0.541 + or -0.015 for the {'C': 1, 'penalty': 'l2', 'solver': 'lbfgs'}\n",
      "0.54 + or -0.013 for the {'C': 1, 'penalty': 'l2', 'solver': 'liblinear'}\n",
      "0.541 + or -0.015 for the {'C': 10, 'penalty': 'l2', 'solver': 'newton-cg'}\n",
      "0.541 + or -0.015 for the {'C': 10, 'penalty': 'l2', 'solver': 'lbfgs'}\n",
      "0.54 + or -0.014 for the {'C': 10, 'penalty': 'l2', 'solver': 'liblinear'}\n"
     ]
    }
   ],
   "source": [
    "# displaying the results\n",
    "display(logreg)"
   ]
  },
  {
   "cell_type": "code",
   "execution_count": 35,
   "id": "f7d1d949",
   "metadata": {},
   "outputs": [
    {
     "name": "stdout",
     "output_type": "stream",
     "text": [
      "0.5605612998522895\n"
     ]
    }
   ],
   "source": [
    "#predict test class using logsitic regression and best parameters found\n",
    "logreg_prediction = logreg.predict(X_test_class)\n",
    "print(get_accuracy(y_test_class,logreg_prediction))"
   ]
  },
  {
   "cell_type": "code",
   "execution_count": null,
   "id": "9bcc775a",
   "metadata": {},
   "outputs": [],
   "source": []
  },
  {
   "cell_type": "code",
   "execution_count": 36,
   "id": "68ef5a31",
   "metadata": {},
   "outputs": [
    {
     "data": {
      "text/html": [
       "<style>#sk-container-id-3 {color: black;background-color: white;}#sk-container-id-3 pre{padding: 0;}#sk-container-id-3 div.sk-toggleable {background-color: white;}#sk-container-id-3 label.sk-toggleable__label {cursor: pointer;display: block;width: 100%;margin-bottom: 0;padding: 0.3em;box-sizing: border-box;text-align: center;}#sk-container-id-3 label.sk-toggleable__label-arrow:before {content: \"▸\";float: left;margin-right: 0.25em;color: #696969;}#sk-container-id-3 label.sk-toggleable__label-arrow:hover:before {color: black;}#sk-container-id-3 div.sk-estimator:hover label.sk-toggleable__label-arrow:before {color: black;}#sk-container-id-3 div.sk-toggleable__content {max-height: 0;max-width: 0;overflow: hidden;text-align: left;background-color: #f0f8ff;}#sk-container-id-3 div.sk-toggleable__content pre {margin: 0.2em;color: black;border-radius: 0.25em;background-color: #f0f8ff;}#sk-container-id-3 input.sk-toggleable__control:checked~div.sk-toggleable__content {max-height: 200px;max-width: 100%;overflow: auto;}#sk-container-id-3 input.sk-toggleable__control:checked~label.sk-toggleable__label-arrow:before {content: \"▾\";}#sk-container-id-3 div.sk-estimator input.sk-toggleable__control:checked~label.sk-toggleable__label {background-color: #d4ebff;}#sk-container-id-3 div.sk-label input.sk-toggleable__control:checked~label.sk-toggleable__label {background-color: #d4ebff;}#sk-container-id-3 input.sk-hidden--visually {border: 0;clip: rect(1px 1px 1px 1px);clip: rect(1px, 1px, 1px, 1px);height: 1px;margin: -1px;overflow: hidden;padding: 0;position: absolute;width: 1px;}#sk-container-id-3 div.sk-estimator {font-family: monospace;background-color: #f0f8ff;border: 1px dotted black;border-radius: 0.25em;box-sizing: border-box;margin-bottom: 0.5em;}#sk-container-id-3 div.sk-estimator:hover {background-color: #d4ebff;}#sk-container-id-3 div.sk-parallel-item::after {content: \"\";width: 100%;border-bottom: 1px solid gray;flex-grow: 1;}#sk-container-id-3 div.sk-label:hover label.sk-toggleable__label {background-color: #d4ebff;}#sk-container-id-3 div.sk-serial::before {content: \"\";position: absolute;border-left: 1px solid gray;box-sizing: border-box;top: 0;bottom: 0;left: 50%;z-index: 0;}#sk-container-id-3 div.sk-serial {display: flex;flex-direction: column;align-items: center;background-color: white;padding-right: 0.2em;padding-left: 0.2em;position: relative;}#sk-container-id-3 div.sk-item {position: relative;z-index: 1;}#sk-container-id-3 div.sk-parallel {display: flex;align-items: stretch;justify-content: center;background-color: white;position: relative;}#sk-container-id-3 div.sk-item::before, #sk-container-id-3 div.sk-parallel-item::before {content: \"\";position: absolute;border-left: 1px solid gray;box-sizing: border-box;top: 0;bottom: 0;left: 50%;z-index: -1;}#sk-container-id-3 div.sk-parallel-item {display: flex;flex-direction: column;z-index: 1;position: relative;background-color: white;}#sk-container-id-3 div.sk-parallel-item:first-child::after {align-self: flex-end;width: 50%;}#sk-container-id-3 div.sk-parallel-item:last-child::after {align-self: flex-start;width: 50%;}#sk-container-id-3 div.sk-parallel-item:only-child::after {width: 0;}#sk-container-id-3 div.sk-dashed-wrapped {border: 1px dashed gray;margin: 0 0.4em 0.5em 0.4em;box-sizing: border-box;padding-bottom: 0.4em;background-color: white;}#sk-container-id-3 div.sk-label label {font-family: monospace;font-weight: bold;display: inline-block;line-height: 1.2em;}#sk-container-id-3 div.sk-label-container {text-align: center;}#sk-container-id-3 div.sk-container {/* jupyter's `normalize.less` sets `[hidden] { display: none; }` but bootstrap.min.css set `[hidden] { display: none !important; }` so we also need the `!important` here to be able to override the default hidden behavior on the sphinx rendered scikit-learn.org. See: https://github.com/scikit-learn/scikit-learn/issues/21755 */display: inline-block !important;position: relative;}#sk-container-id-3 div.sk-text-repr-fallback {display: none;}</style><div id=\"sk-container-id-3\" class=\"sk-top-container\"><div class=\"sk-text-repr-fallback\"><pre>GaussianNB()</pre><b>In a Jupyter environment, please rerun this cell to show the HTML representation or trust the notebook. <br />On GitHub, the HTML representation is unable to render, please try loading this page with nbviewer.org.</b></div><div class=\"sk-container\" hidden><div class=\"sk-item\"><div class=\"sk-estimator sk-toggleable\"><input class=\"sk-toggleable__control sk-hidden--visually\" id=\"sk-estimator-id-7\" type=\"checkbox\" checked><label for=\"sk-estimator-id-7\" class=\"sk-toggleable__label sk-toggleable__label-arrow\">GaussianNB</label><div class=\"sk-toggleable__content\"><pre>GaussianNB()</pre></div></div></div></div></div>"
      ],
      "text/plain": [
       "GaussianNB()"
      ]
     },
     "execution_count": 36,
     "metadata": {},
     "output_type": "execute_result"
    }
   ],
   "source": [
    "# loading Gaussian Naive Bayes for the training set\n",
    "gnb = GaussianNB()\n",
    "gnb.fit(X_train_class, y_train_class)"
   ]
  },
  {
   "cell_type": "code",
   "execution_count": 37,
   "id": "562581b4",
   "metadata": {},
   "outputs": [
    {
     "name": "stdout",
     "output_type": "stream",
     "text": [
      "0.5236336779911374\n"
     ]
    }
   ],
   "source": [
    "# prediction parameter using the test class\n",
    "gnb_prediction = gnb.predict(X_test_class)\n",
    "\n",
    "# print(classification_report(y_test_class,prediction_class))\n",
    "print(get_accuracy(y_test_class,gnb_prediction))"
   ]
  },
  {
   "cell_type": "code",
   "execution_count": null,
   "id": "f85ab7e8",
   "metadata": {},
   "outputs": [],
   "source": []
  },
  {
   "cell_type": "code",
   "execution_count": 38,
   "id": "2921bd0b",
   "metadata": {},
   "outputs": [],
   "source": [
    "# loading k Nearest Neighbour with different hyperparameters\n",
    "KNN = KNeighborsClassifier(metric = \"euclidean\")\n",
    "parameters = {\n",
    "    \"n_neighbors\":[40,50,60,100],\n",
    "    \"p\":[3]\n",
    "    \n",
    "}"
   ]
  },
  {
   "cell_type": "code",
   "execution_count": 39,
   "id": "828f9005",
   "metadata": {},
   "outputs": [],
   "source": [
    "# Using grid search for a 10 fold stratified cross validation for the training set\n",
    "cv = GridSearchCV(KNN,parameters,cv=10)\n",
    "grid_search = cv.fit(X_train_class, y_train_class)"
   ]
  },
  {
   "cell_type": "code",
   "execution_count": 40,
   "id": "76d08682",
   "metadata": {},
   "outputs": [
    {
     "name": "stdout",
     "output_type": "stream",
     "text": [
      "Best parameters are: {'n_neighbors': 100, 'p': 3}\n",
      "\n",
      "\n",
      "0.52 + or -0.017 for the {'n_neighbors': 40, 'p': 3}\n",
      "0.52 + or -0.02 for the {'n_neighbors': 50, 'p': 3}\n",
      "0.52 + or -0.014 for the {'n_neighbors': 60, 'p': 3}\n",
      "0.531 + or -0.018 for the {'n_neighbors': 100, 'p': 3}\n"
     ]
    }
   ],
   "source": [
    "# displaying the results\n",
    "display(cv)"
   ]
  },
  {
   "cell_type": "code",
   "execution_count": 41,
   "id": "abb8e85c",
   "metadata": {},
   "outputs": [
    {
     "name": "stdout",
     "output_type": "stream",
     "text": [
      "0.5520679468242246\n"
     ]
    }
   ],
   "source": [
    "# prediction parameter using the test class\n",
    "knn_prediction = cv.predict(X_test_class)\n",
    "# print(classification_report(y_test_class,prediction_class))\n",
    "print(get_accuracy(y_test_class,knn_prediction))"
   ]
  },
  {
   "cell_type": "code",
   "execution_count": null,
   "id": "8e3c0a81",
   "metadata": {},
   "outputs": [],
   "source": []
  },
  {
   "cell_type": "code",
   "execution_count": 42,
   "id": "575a36e5",
   "metadata": {},
   "outputs": [
    {
     "data": {
      "text/html": [
       "<style>#sk-container-id-4 {color: black;background-color: white;}#sk-container-id-4 pre{padding: 0;}#sk-container-id-4 div.sk-toggleable {background-color: white;}#sk-container-id-4 label.sk-toggleable__label {cursor: pointer;display: block;width: 100%;margin-bottom: 0;padding: 0.3em;box-sizing: border-box;text-align: center;}#sk-container-id-4 label.sk-toggleable__label-arrow:before {content: \"▸\";float: left;margin-right: 0.25em;color: #696969;}#sk-container-id-4 label.sk-toggleable__label-arrow:hover:before {color: black;}#sk-container-id-4 div.sk-estimator:hover label.sk-toggleable__label-arrow:before {color: black;}#sk-container-id-4 div.sk-toggleable__content {max-height: 0;max-width: 0;overflow: hidden;text-align: left;background-color: #f0f8ff;}#sk-container-id-4 div.sk-toggleable__content pre {margin: 0.2em;color: black;border-radius: 0.25em;background-color: #f0f8ff;}#sk-container-id-4 input.sk-toggleable__control:checked~div.sk-toggleable__content {max-height: 200px;max-width: 100%;overflow: auto;}#sk-container-id-4 input.sk-toggleable__control:checked~label.sk-toggleable__label-arrow:before {content: \"▾\";}#sk-container-id-4 div.sk-estimator input.sk-toggleable__control:checked~label.sk-toggleable__label {background-color: #d4ebff;}#sk-container-id-4 div.sk-label input.sk-toggleable__control:checked~label.sk-toggleable__label {background-color: #d4ebff;}#sk-container-id-4 input.sk-hidden--visually {border: 0;clip: rect(1px 1px 1px 1px);clip: rect(1px, 1px, 1px, 1px);height: 1px;margin: -1px;overflow: hidden;padding: 0;position: absolute;width: 1px;}#sk-container-id-4 div.sk-estimator {font-family: monospace;background-color: #f0f8ff;border: 1px dotted black;border-radius: 0.25em;box-sizing: border-box;margin-bottom: 0.5em;}#sk-container-id-4 div.sk-estimator:hover {background-color: #d4ebff;}#sk-container-id-4 div.sk-parallel-item::after {content: \"\";width: 100%;border-bottom: 1px solid gray;flex-grow: 1;}#sk-container-id-4 div.sk-label:hover label.sk-toggleable__label {background-color: #d4ebff;}#sk-container-id-4 div.sk-serial::before {content: \"\";position: absolute;border-left: 1px solid gray;box-sizing: border-box;top: 0;bottom: 0;left: 50%;z-index: 0;}#sk-container-id-4 div.sk-serial {display: flex;flex-direction: column;align-items: center;background-color: white;padding-right: 0.2em;padding-left: 0.2em;position: relative;}#sk-container-id-4 div.sk-item {position: relative;z-index: 1;}#sk-container-id-4 div.sk-parallel {display: flex;align-items: stretch;justify-content: center;background-color: white;position: relative;}#sk-container-id-4 div.sk-item::before, #sk-container-id-4 div.sk-parallel-item::before {content: \"\";position: absolute;border-left: 1px solid gray;box-sizing: border-box;top: 0;bottom: 0;left: 50%;z-index: -1;}#sk-container-id-4 div.sk-parallel-item {display: flex;flex-direction: column;z-index: 1;position: relative;background-color: white;}#sk-container-id-4 div.sk-parallel-item:first-child::after {align-self: flex-end;width: 50%;}#sk-container-id-4 div.sk-parallel-item:last-child::after {align-self: flex-start;width: 50%;}#sk-container-id-4 div.sk-parallel-item:only-child::after {width: 0;}#sk-container-id-4 div.sk-dashed-wrapped {border: 1px dashed gray;margin: 0 0.4em 0.5em 0.4em;box-sizing: border-box;padding-bottom: 0.4em;background-color: white;}#sk-container-id-4 div.sk-label label {font-family: monospace;font-weight: bold;display: inline-block;line-height: 1.2em;}#sk-container-id-4 div.sk-label-container {text-align: center;}#sk-container-id-4 div.sk-container {/* jupyter's `normalize.less` sets `[hidden] { display: none; }` but bootstrap.min.css set `[hidden] { display: none !important; }` so we also need the `!important` here to be able to override the default hidden behavior on the sphinx rendered scikit-learn.org. See: https://github.com/scikit-learn/scikit-learn/issues/21755 */display: inline-block !important;position: relative;}#sk-container-id-4 div.sk-text-repr-fallback {display: none;}</style><div id=\"sk-container-id-4\" class=\"sk-top-container\"><div class=\"sk-text-repr-fallback\"><pre>GridSearchCV(cv=5, estimator=SVC(),\n",
       "             param_grid={&#x27;C&#x27;: [1, 10], &#x27;degree&#x27;: [1, 2],\n",
       "                         &#x27;kernel&#x27;: (&#x27;poly&#x27;, &#x27;rbf&#x27;)})</pre><b>In a Jupyter environment, please rerun this cell to show the HTML representation or trust the notebook. <br />On GitHub, the HTML representation is unable to render, please try loading this page with nbviewer.org.</b></div><div class=\"sk-container\" hidden><div class=\"sk-item sk-dashed-wrapped\"><div class=\"sk-label-container\"><div class=\"sk-label sk-toggleable\"><input class=\"sk-toggleable__control sk-hidden--visually\" id=\"sk-estimator-id-8\" type=\"checkbox\" ><label for=\"sk-estimator-id-8\" class=\"sk-toggleable__label sk-toggleable__label-arrow\">GridSearchCV</label><div class=\"sk-toggleable__content\"><pre>GridSearchCV(cv=5, estimator=SVC(),\n",
       "             param_grid={&#x27;C&#x27;: [1, 10], &#x27;degree&#x27;: [1, 2],\n",
       "                         &#x27;kernel&#x27;: (&#x27;poly&#x27;, &#x27;rbf&#x27;)})</pre></div></div></div><div class=\"sk-parallel\"><div class=\"sk-parallel-item\"><div class=\"sk-item\"><div class=\"sk-label-container\"><div class=\"sk-label sk-toggleable\"><input class=\"sk-toggleable__control sk-hidden--visually\" id=\"sk-estimator-id-9\" type=\"checkbox\" ><label for=\"sk-estimator-id-9\" class=\"sk-toggleable__label sk-toggleable__label-arrow\">estimator: SVC</label><div class=\"sk-toggleable__content\"><pre>SVC()</pre></div></div></div><div class=\"sk-serial\"><div class=\"sk-item\"><div class=\"sk-estimator sk-toggleable\"><input class=\"sk-toggleable__control sk-hidden--visually\" id=\"sk-estimator-id-10\" type=\"checkbox\" ><label for=\"sk-estimator-id-10\" class=\"sk-toggleable__label sk-toggleable__label-arrow\">SVC</label><div class=\"sk-toggleable__content\"><pre>SVC()</pre></div></div></div></div></div></div></div></div></div></div>"
      ],
      "text/plain": [
       "GridSearchCV(cv=5, estimator=SVC(),\n",
       "             param_grid={'C': [1, 10], 'degree': [1, 2],\n",
       "                         'kernel': ('poly', 'rbf')})"
      ]
     },
     "execution_count": 42,
     "metadata": {},
     "output_type": "execute_result"
    }
   ],
   "source": [
    "#define gridsearch parameters for svc\n",
    "#fit model to train dataset with 5 fold corss validation\n",
    "parameters = {'kernel':('poly', 'rbf'), 'C':[1, 10],'degree':[1,2]}\n",
    "svc = GridSearchCV(SVC(), parameters,cv=5)\n",
    "svc.fit(X_train_class,y_train_class)"
   ]
  },
  {
   "cell_type": "code",
   "execution_count": 43,
   "id": "4e0b4596",
   "metadata": {},
   "outputs": [
    {
     "name": "stdout",
     "output_type": "stream",
     "text": [
      "Best parameters are: {'C': 1, 'degree': 1, 'kernel': 'poly'}\n",
      "\n",
      "\n",
      "0.54 + or -0.011 for the {'C': 1, 'degree': 1, 'kernel': 'poly'}\n",
      "0.536 + or -0.008 for the {'C': 1, 'degree': 1, 'kernel': 'rbf'}\n",
      "0.458 + or -0.0 for the {'C': 1, 'degree': 2, 'kernel': 'poly'}\n",
      "0.536 + or -0.008 for the {'C': 1, 'degree': 2, 'kernel': 'rbf'}\n",
      "0.539 + or -0.011 for the {'C': 10, 'degree': 1, 'kernel': 'poly'}\n",
      "0.5 + or -0.009 for the {'C': 10, 'degree': 1, 'kernel': 'rbf'}\n",
      "0.457 + or -0.001 for the {'C': 10, 'degree': 2, 'kernel': 'poly'}\n",
      "0.5 + or -0.009 for the {'C': 10, 'degree': 2, 'kernel': 'rbf'}\n"
     ]
    }
   ],
   "source": [
    "display(svc)"
   ]
  },
  {
   "cell_type": "code",
   "execution_count": 44,
   "id": "3cf02d31",
   "metadata": {},
   "outputs": [
    {
     "name": "stdout",
     "output_type": "stream",
     "text": [
      "0.560930576070901\n"
     ]
    }
   ],
   "source": [
    "#predict test class using svc and best parameters found\n",
    "svc_prediction = svc.predict(X_test_class)\n",
    "print(get_accuracy(y_test_class,svc_prediction))"
   ]
  },
  {
   "cell_type": "code",
   "execution_count": null,
   "id": "1f6697a9",
   "metadata": {},
   "outputs": [],
   "source": []
  },
  {
   "cell_type": "code",
   "execution_count": 45,
   "id": "792d6714",
   "metadata": {},
   "outputs": [
    {
     "data": {
      "text/html": [
       "<style>#sk-container-id-5 {color: black;background-color: white;}#sk-container-id-5 pre{padding: 0;}#sk-container-id-5 div.sk-toggleable {background-color: white;}#sk-container-id-5 label.sk-toggleable__label {cursor: pointer;display: block;width: 100%;margin-bottom: 0;padding: 0.3em;box-sizing: border-box;text-align: center;}#sk-container-id-5 label.sk-toggleable__label-arrow:before {content: \"▸\";float: left;margin-right: 0.25em;color: #696969;}#sk-container-id-5 label.sk-toggleable__label-arrow:hover:before {color: black;}#sk-container-id-5 div.sk-estimator:hover label.sk-toggleable__label-arrow:before {color: black;}#sk-container-id-5 div.sk-toggleable__content {max-height: 0;max-width: 0;overflow: hidden;text-align: left;background-color: #f0f8ff;}#sk-container-id-5 div.sk-toggleable__content pre {margin: 0.2em;color: black;border-radius: 0.25em;background-color: #f0f8ff;}#sk-container-id-5 input.sk-toggleable__control:checked~div.sk-toggleable__content {max-height: 200px;max-width: 100%;overflow: auto;}#sk-container-id-5 input.sk-toggleable__control:checked~label.sk-toggleable__label-arrow:before {content: \"▾\";}#sk-container-id-5 div.sk-estimator input.sk-toggleable__control:checked~label.sk-toggleable__label {background-color: #d4ebff;}#sk-container-id-5 div.sk-label input.sk-toggleable__control:checked~label.sk-toggleable__label {background-color: #d4ebff;}#sk-container-id-5 input.sk-hidden--visually {border: 0;clip: rect(1px 1px 1px 1px);clip: rect(1px, 1px, 1px, 1px);height: 1px;margin: -1px;overflow: hidden;padding: 0;position: absolute;width: 1px;}#sk-container-id-5 div.sk-estimator {font-family: monospace;background-color: #f0f8ff;border: 1px dotted black;border-radius: 0.25em;box-sizing: border-box;margin-bottom: 0.5em;}#sk-container-id-5 div.sk-estimator:hover {background-color: #d4ebff;}#sk-container-id-5 div.sk-parallel-item::after {content: \"\";width: 100%;border-bottom: 1px solid gray;flex-grow: 1;}#sk-container-id-5 div.sk-label:hover label.sk-toggleable__label {background-color: #d4ebff;}#sk-container-id-5 div.sk-serial::before {content: \"\";position: absolute;border-left: 1px solid gray;box-sizing: border-box;top: 0;bottom: 0;left: 50%;z-index: 0;}#sk-container-id-5 div.sk-serial {display: flex;flex-direction: column;align-items: center;background-color: white;padding-right: 0.2em;padding-left: 0.2em;position: relative;}#sk-container-id-5 div.sk-item {position: relative;z-index: 1;}#sk-container-id-5 div.sk-parallel {display: flex;align-items: stretch;justify-content: center;background-color: white;position: relative;}#sk-container-id-5 div.sk-item::before, #sk-container-id-5 div.sk-parallel-item::before {content: \"\";position: absolute;border-left: 1px solid gray;box-sizing: border-box;top: 0;bottom: 0;left: 50%;z-index: -1;}#sk-container-id-5 div.sk-parallel-item {display: flex;flex-direction: column;z-index: 1;position: relative;background-color: white;}#sk-container-id-5 div.sk-parallel-item:first-child::after {align-self: flex-end;width: 50%;}#sk-container-id-5 div.sk-parallel-item:last-child::after {align-self: flex-start;width: 50%;}#sk-container-id-5 div.sk-parallel-item:only-child::after {width: 0;}#sk-container-id-5 div.sk-dashed-wrapped {border: 1px dashed gray;margin: 0 0.4em 0.5em 0.4em;box-sizing: border-box;padding-bottom: 0.4em;background-color: white;}#sk-container-id-5 div.sk-label label {font-family: monospace;font-weight: bold;display: inline-block;line-height: 1.2em;}#sk-container-id-5 div.sk-label-container {text-align: center;}#sk-container-id-5 div.sk-container {/* jupyter's `normalize.less` sets `[hidden] { display: none; }` but bootstrap.min.css set `[hidden] { display: none !important; }` so we also need the `!important` here to be able to override the default hidden behavior on the sphinx rendered scikit-learn.org. See: https://github.com/scikit-learn/scikit-learn/issues/21755 */display: inline-block !important;position: relative;}#sk-container-id-5 div.sk-text-repr-fallback {display: none;}</style><div id=\"sk-container-id-5\" class=\"sk-top-container\"><div class=\"sk-text-repr-fallback\"><pre>GridSearchCV(cv=5, estimator=MLPClassifier(),\n",
       "             param_grid={&#x27;activation&#x27;: [&#x27;relu&#x27;],\n",
       "                         &#x27;hidden_layer_sizes&#x27;: [(30, 15), (20, 10), (10, 5)],\n",
       "                         &#x27;max_iter&#x27;: [100000], &#x27;solver&#x27;: [&#x27;sgd&#x27;, &#x27;adam&#x27;]})</pre><b>In a Jupyter environment, please rerun this cell to show the HTML representation or trust the notebook. <br />On GitHub, the HTML representation is unable to render, please try loading this page with nbviewer.org.</b></div><div class=\"sk-container\" hidden><div class=\"sk-item sk-dashed-wrapped\"><div class=\"sk-label-container\"><div class=\"sk-label sk-toggleable\"><input class=\"sk-toggleable__control sk-hidden--visually\" id=\"sk-estimator-id-11\" type=\"checkbox\" ><label for=\"sk-estimator-id-11\" class=\"sk-toggleable__label sk-toggleable__label-arrow\">GridSearchCV</label><div class=\"sk-toggleable__content\"><pre>GridSearchCV(cv=5, estimator=MLPClassifier(),\n",
       "             param_grid={&#x27;activation&#x27;: [&#x27;relu&#x27;],\n",
       "                         &#x27;hidden_layer_sizes&#x27;: [(30, 15), (20, 10), (10, 5)],\n",
       "                         &#x27;max_iter&#x27;: [100000], &#x27;solver&#x27;: [&#x27;sgd&#x27;, &#x27;adam&#x27;]})</pre></div></div></div><div class=\"sk-parallel\"><div class=\"sk-parallel-item\"><div class=\"sk-item\"><div class=\"sk-label-container\"><div class=\"sk-label sk-toggleable\"><input class=\"sk-toggleable__control sk-hidden--visually\" id=\"sk-estimator-id-12\" type=\"checkbox\" ><label for=\"sk-estimator-id-12\" class=\"sk-toggleable__label sk-toggleable__label-arrow\">estimator: MLPClassifier</label><div class=\"sk-toggleable__content\"><pre>MLPClassifier()</pre></div></div></div><div class=\"sk-serial\"><div class=\"sk-item\"><div class=\"sk-estimator sk-toggleable\"><input class=\"sk-toggleable__control sk-hidden--visually\" id=\"sk-estimator-id-13\" type=\"checkbox\" ><label for=\"sk-estimator-id-13\" class=\"sk-toggleable__label sk-toggleable__label-arrow\">MLPClassifier</label><div class=\"sk-toggleable__content\"><pre>MLPClassifier()</pre></div></div></div></div></div></div></div></div></div></div>"
      ],
      "text/plain": [
       "GridSearchCV(cv=5, estimator=MLPClassifier(),\n",
       "             param_grid={'activation': ['relu'],\n",
       "                         'hidden_layer_sizes': [(30, 15), (20, 10), (10, 5)],\n",
       "                         'max_iter': [100000], 'solver': ['sgd', 'adam']})"
      ]
     },
     "execution_count": 45,
     "metadata": {},
     "output_type": "execute_result"
    }
   ],
   "source": [
    "#define gridsearch parameters for multilayer perceptron classifier\n",
    "#fit model to train dataset with 5 fold corss validation\n",
    "parameters = {'solver':['sgd','adam'],'activation':['relu'],'hidden_layer_sizes':[(30,15),(20,10),(10,5)],'max_iter':[100000]}\n",
    "mlpc = GridSearchCV(MLPClassifier(),parameters,cv=5)\n",
    "mlpc.fit(X_train_class,y_train_class)"
   ]
  },
  {
   "cell_type": "code",
   "execution_count": 46,
   "id": "b4de5942",
   "metadata": {},
   "outputs": [
    {
     "name": "stdout",
     "output_type": "stream",
     "text": [
      "Best parameters are: {'activation': 'relu', 'hidden_layer_sizes': (20, 10), 'max_iter': 100000, 'solver': 'sgd'}\n",
      "\n",
      "\n",
      "0.532 + or -0.01 for the {'activation': 'relu', 'hidden_layer_sizes': (30, 15), 'max_iter': 100000, 'solver': 'sgd'}\n",
      "0.473 + or -0.015 for the {'activation': 'relu', 'hidden_layer_sizes': (30, 15), 'max_iter': 100000, 'solver': 'adam'}\n",
      "0.537 + or -0.017 for the {'activation': 'relu', 'hidden_layer_sizes': (20, 10), 'max_iter': 100000, 'solver': 'sgd'}\n",
      "0.499 + or -0.013 for the {'activation': 'relu', 'hidden_layer_sizes': (20, 10), 'max_iter': 100000, 'solver': 'adam'}\n",
      "0.537 + or -0.009 for the {'activation': 'relu', 'hidden_layer_sizes': (10, 5), 'max_iter': 100000, 'solver': 'sgd'}\n",
      "0.529 + or -0.014 for the {'activation': 'relu', 'hidden_layer_sizes': (10, 5), 'max_iter': 100000, 'solver': 'adam'}\n"
     ]
    }
   ],
   "source": [
    "display(mlpc)"
   ]
  },
  {
   "cell_type": "code",
   "execution_count": 47,
   "id": "0ca09e5b",
   "metadata": {},
   "outputs": [
    {
     "name": "stdout",
     "output_type": "stream",
     "text": [
      "0.5461595273264401\n"
     ]
    }
   ],
   "source": [
    "#predict test class using mlpc and best parameters found\n",
    "mlpc_prediction = mlpc.predict(X_test_class)\n",
    "print(get_accuracy(y_test_class,mlpc_prediction))"
   ]
  },
  {
   "cell_type": "code",
   "execution_count": null,
   "id": "09f4a233",
   "metadata": {},
   "outputs": [],
   "source": []
  },
  {
   "cell_type": "code",
   "execution_count": 48,
   "id": "cab91b1e",
   "metadata": {},
   "outputs": [],
   "source": [
    "# loading Random Forest Regression with different hyperparameters\n",
    "rfr = RandomForestRegressor()\n",
    "parameters = {\n",
    "    \"n_estimators\":[5,10,50,100,250],\n",
    "    \"max_depth\":[2,4,8,16,32,None]\n",
    "    \n",
    "}"
   ]
  },
  {
   "cell_type": "code",
   "execution_count": 49,
   "id": "17860380",
   "metadata": {},
   "outputs": [
    {
     "data": {
      "text/html": [
       "<style>#sk-container-id-6 {color: black;background-color: white;}#sk-container-id-6 pre{padding: 0;}#sk-container-id-6 div.sk-toggleable {background-color: white;}#sk-container-id-6 label.sk-toggleable__label {cursor: pointer;display: block;width: 100%;margin-bottom: 0;padding: 0.3em;box-sizing: border-box;text-align: center;}#sk-container-id-6 label.sk-toggleable__label-arrow:before {content: \"▸\";float: left;margin-right: 0.25em;color: #696969;}#sk-container-id-6 label.sk-toggleable__label-arrow:hover:before {color: black;}#sk-container-id-6 div.sk-estimator:hover label.sk-toggleable__label-arrow:before {color: black;}#sk-container-id-6 div.sk-toggleable__content {max-height: 0;max-width: 0;overflow: hidden;text-align: left;background-color: #f0f8ff;}#sk-container-id-6 div.sk-toggleable__content pre {margin: 0.2em;color: black;border-radius: 0.25em;background-color: #f0f8ff;}#sk-container-id-6 input.sk-toggleable__control:checked~div.sk-toggleable__content {max-height: 200px;max-width: 100%;overflow: auto;}#sk-container-id-6 input.sk-toggleable__control:checked~label.sk-toggleable__label-arrow:before {content: \"▾\";}#sk-container-id-6 div.sk-estimator input.sk-toggleable__control:checked~label.sk-toggleable__label {background-color: #d4ebff;}#sk-container-id-6 div.sk-label input.sk-toggleable__control:checked~label.sk-toggleable__label {background-color: #d4ebff;}#sk-container-id-6 input.sk-hidden--visually {border: 0;clip: rect(1px 1px 1px 1px);clip: rect(1px, 1px, 1px, 1px);height: 1px;margin: -1px;overflow: hidden;padding: 0;position: absolute;width: 1px;}#sk-container-id-6 div.sk-estimator {font-family: monospace;background-color: #f0f8ff;border: 1px dotted black;border-radius: 0.25em;box-sizing: border-box;margin-bottom: 0.5em;}#sk-container-id-6 div.sk-estimator:hover {background-color: #d4ebff;}#sk-container-id-6 div.sk-parallel-item::after {content: \"\";width: 100%;border-bottom: 1px solid gray;flex-grow: 1;}#sk-container-id-6 div.sk-label:hover label.sk-toggleable__label {background-color: #d4ebff;}#sk-container-id-6 div.sk-serial::before {content: \"\";position: absolute;border-left: 1px solid gray;box-sizing: border-box;top: 0;bottom: 0;left: 50%;z-index: 0;}#sk-container-id-6 div.sk-serial {display: flex;flex-direction: column;align-items: center;background-color: white;padding-right: 0.2em;padding-left: 0.2em;position: relative;}#sk-container-id-6 div.sk-item {position: relative;z-index: 1;}#sk-container-id-6 div.sk-parallel {display: flex;align-items: stretch;justify-content: center;background-color: white;position: relative;}#sk-container-id-6 div.sk-item::before, #sk-container-id-6 div.sk-parallel-item::before {content: \"\";position: absolute;border-left: 1px solid gray;box-sizing: border-box;top: 0;bottom: 0;left: 50%;z-index: -1;}#sk-container-id-6 div.sk-parallel-item {display: flex;flex-direction: column;z-index: 1;position: relative;background-color: white;}#sk-container-id-6 div.sk-parallel-item:first-child::after {align-self: flex-end;width: 50%;}#sk-container-id-6 div.sk-parallel-item:last-child::after {align-self: flex-start;width: 50%;}#sk-container-id-6 div.sk-parallel-item:only-child::after {width: 0;}#sk-container-id-6 div.sk-dashed-wrapped {border: 1px dashed gray;margin: 0 0.4em 0.5em 0.4em;box-sizing: border-box;padding-bottom: 0.4em;background-color: white;}#sk-container-id-6 div.sk-label label {font-family: monospace;font-weight: bold;display: inline-block;line-height: 1.2em;}#sk-container-id-6 div.sk-label-container {text-align: center;}#sk-container-id-6 div.sk-container {/* jupyter's `normalize.less` sets `[hidden] { display: none; }` but bootstrap.min.css set `[hidden] { display: none !important; }` so we also need the `!important` here to be able to override the default hidden behavior on the sphinx rendered scikit-learn.org. See: https://github.com/scikit-learn/scikit-learn/issues/21755 */display: inline-block !important;position: relative;}#sk-container-id-6 div.sk-text-repr-fallback {display: none;}</style><div id=\"sk-container-id-6\" class=\"sk-top-container\"><div class=\"sk-text-repr-fallback\"><pre>GridSearchCV(cv=10, estimator=RandomForestRegressor(),\n",
       "             param_grid={&#x27;max_depth&#x27;: [2, 4, 8, 16, 32, None],\n",
       "                         &#x27;n_estimators&#x27;: [5, 10, 50, 100, 250]})</pre><b>In a Jupyter environment, please rerun this cell to show the HTML representation or trust the notebook. <br />On GitHub, the HTML representation is unable to render, please try loading this page with nbviewer.org.</b></div><div class=\"sk-container\" hidden><div class=\"sk-item sk-dashed-wrapped\"><div class=\"sk-label-container\"><div class=\"sk-label sk-toggleable\"><input class=\"sk-toggleable__control sk-hidden--visually\" id=\"sk-estimator-id-14\" type=\"checkbox\" ><label for=\"sk-estimator-id-14\" class=\"sk-toggleable__label sk-toggleable__label-arrow\">GridSearchCV</label><div class=\"sk-toggleable__content\"><pre>GridSearchCV(cv=10, estimator=RandomForestRegressor(),\n",
       "             param_grid={&#x27;max_depth&#x27;: [2, 4, 8, 16, 32, None],\n",
       "                         &#x27;n_estimators&#x27;: [5, 10, 50, 100, 250]})</pre></div></div></div><div class=\"sk-parallel\"><div class=\"sk-parallel-item\"><div class=\"sk-item\"><div class=\"sk-label-container\"><div class=\"sk-label sk-toggleable\"><input class=\"sk-toggleable__control sk-hidden--visually\" id=\"sk-estimator-id-15\" type=\"checkbox\" ><label for=\"sk-estimator-id-15\" class=\"sk-toggleable__label sk-toggleable__label-arrow\">estimator: RandomForestRegressor</label><div class=\"sk-toggleable__content\"><pre>RandomForestRegressor()</pre></div></div></div><div class=\"sk-serial\"><div class=\"sk-item\"><div class=\"sk-estimator sk-toggleable\"><input class=\"sk-toggleable__control sk-hidden--visually\" id=\"sk-estimator-id-16\" type=\"checkbox\" ><label for=\"sk-estimator-id-16\" class=\"sk-toggleable__label sk-toggleable__label-arrow\">RandomForestRegressor</label><div class=\"sk-toggleable__content\"><pre>RandomForestRegressor()</pre></div></div></div></div></div></div></div></div></div></div>"
      ],
      "text/plain": [
       "GridSearchCV(cv=10, estimator=RandomForestRegressor(),\n",
       "             param_grid={'max_depth': [2, 4, 8, 16, 32, None],\n",
       "                         'n_estimators': [5, 10, 50, 100, 250]})"
      ]
     },
     "execution_count": 49,
     "metadata": {},
     "output_type": "execute_result"
    }
   ],
   "source": [
    "# Using grid search for a 10 fold stratified cross validation for the training set\n",
    "cv = GridSearchCV(rfr,parameters,cv=10)\n",
    "cv.fit(X_train_reg, y_train_reg)"
   ]
  },
  {
   "cell_type": "code",
   "execution_count": 50,
   "id": "083069e8",
   "metadata": {},
   "outputs": [
    {
     "name": "stdout",
     "output_type": "stream",
     "text": [
      "Best parameters are: {'max_depth': 4, 'n_estimators': 250}\n",
      "\n",
      "\n",
      "0.178 + or -0.031 for the {'max_depth': 2, 'n_estimators': 5}\n",
      "0.18 + or -0.03 for the {'max_depth': 2, 'n_estimators': 10}\n",
      "0.18 + or -0.03 for the {'max_depth': 2, 'n_estimators': 50}\n",
      "0.181 + or -0.031 for the {'max_depth': 2, 'n_estimators': 100}\n",
      "0.182 + or -0.031 for the {'max_depth': 2, 'n_estimators': 250}\n",
      "0.212 + or -0.033 for the {'max_depth': 4, 'n_estimators': 5}\n",
      "0.215 + or -0.035 for the {'max_depth': 4, 'n_estimators': 10}\n",
      "0.221 + or -0.036 for the {'max_depth': 4, 'n_estimators': 50}\n",
      "0.222 + or -0.035 for the {'max_depth': 4, 'n_estimators': 100}\n",
      "0.222 + or -0.036 for the {'max_depth': 4, 'n_estimators': 250}\n",
      "0.174 + or -0.041 for the {'max_depth': 8, 'n_estimators': 5}\n",
      "0.201 + or -0.034 for the {'max_depth': 8, 'n_estimators': 10}\n",
      "0.219 + or -0.041 for the {'max_depth': 8, 'n_estimators': 50}\n",
      "0.219 + or -0.038 for the {'max_depth': 8, 'n_estimators': 100}\n",
      "0.221 + or -0.038 for the {'max_depth': 8, 'n_estimators': 250}\n",
      "0.055 + or -0.046 for the {'max_depth': 16, 'n_estimators': 5}\n",
      "0.133 + or -0.053 for the {'max_depth': 16, 'n_estimators': 10}\n",
      "0.195 + or -0.043 for the {'max_depth': 16, 'n_estimators': 50}\n",
      "0.203 + or -0.039 for the {'max_depth': 16, 'n_estimators': 100}\n",
      "0.21 + or -0.038 for the {'max_depth': 16, 'n_estimators': 250}\n",
      "0.023 + or -0.042 for the {'max_depth': 32, 'n_estimators': 5}\n",
      "0.115 + or -0.035 for the {'max_depth': 32, 'n_estimators': 10}\n",
      "0.189 + or -0.039 for the {'max_depth': 32, 'n_estimators': 50}\n",
      "0.199 + or -0.037 for the {'max_depth': 32, 'n_estimators': 100}\n",
      "0.202 + or -0.039 for the {'max_depth': 32, 'n_estimators': 250}\n",
      "0.053 + or -0.044 for the {'max_depth': None, 'n_estimators': 5}\n",
      "0.129 + or -0.052 for the {'max_depth': None, 'n_estimators': 10}\n",
      "0.194 + or -0.044 for the {'max_depth': None, 'n_estimators': 50}\n",
      "0.196 + or -0.042 for the {'max_depth': None, 'n_estimators': 100}\n",
      "0.205 + or -0.04 for the {'max_depth': None, 'n_estimators': 250}\n"
     ]
    }
   ],
   "source": [
    "# displaying the results\n",
    "display(cv)"
   ]
  },
  {
   "cell_type": "code",
   "execution_count": 51,
   "id": "a1020308",
   "metadata": {},
   "outputs": [
    {
     "name": "stdout",
     "output_type": "stream",
     "text": [
      "0.551698670605613\n"
     ]
    }
   ],
   "source": [
    "# prediction parameter using the test class\n",
    "rfr_prediction = cv.predict(X_test_reg)\n",
    "# defining the home and away win and draw\n",
    "rfr_prediction = [\"H\" if p > 0.1 else \"A\" if p < -0.1 else \"D\" for p in rfr_prediction]\n",
    "# print(classification_report(y_test_class,prediction_class))\n",
    "print(get_accuracy(y_test_class,rfr_prediction))"
   ]
  },
  {
   "cell_type": "code",
   "execution_count": null,
   "id": "cf28223c",
   "metadata": {},
   "outputs": [],
   "source": []
  },
  {
   "cell_type": "code",
   "execution_count": 52,
   "id": "242f949b",
   "metadata": {},
   "outputs": [
    {
     "data": {
      "text/html": [
       "<style>#sk-container-id-7 {color: black;background-color: white;}#sk-container-id-7 pre{padding: 0;}#sk-container-id-7 div.sk-toggleable {background-color: white;}#sk-container-id-7 label.sk-toggleable__label {cursor: pointer;display: block;width: 100%;margin-bottom: 0;padding: 0.3em;box-sizing: border-box;text-align: center;}#sk-container-id-7 label.sk-toggleable__label-arrow:before {content: \"▸\";float: left;margin-right: 0.25em;color: #696969;}#sk-container-id-7 label.sk-toggleable__label-arrow:hover:before {color: black;}#sk-container-id-7 div.sk-estimator:hover label.sk-toggleable__label-arrow:before {color: black;}#sk-container-id-7 div.sk-toggleable__content {max-height: 0;max-width: 0;overflow: hidden;text-align: left;background-color: #f0f8ff;}#sk-container-id-7 div.sk-toggleable__content pre {margin: 0.2em;color: black;border-radius: 0.25em;background-color: #f0f8ff;}#sk-container-id-7 input.sk-toggleable__control:checked~div.sk-toggleable__content {max-height: 200px;max-width: 100%;overflow: auto;}#sk-container-id-7 input.sk-toggleable__control:checked~label.sk-toggleable__label-arrow:before {content: \"▾\";}#sk-container-id-7 div.sk-estimator input.sk-toggleable__control:checked~label.sk-toggleable__label {background-color: #d4ebff;}#sk-container-id-7 div.sk-label input.sk-toggleable__control:checked~label.sk-toggleable__label {background-color: #d4ebff;}#sk-container-id-7 input.sk-hidden--visually {border: 0;clip: rect(1px 1px 1px 1px);clip: rect(1px, 1px, 1px, 1px);height: 1px;margin: -1px;overflow: hidden;padding: 0;position: absolute;width: 1px;}#sk-container-id-7 div.sk-estimator {font-family: monospace;background-color: #f0f8ff;border: 1px dotted black;border-radius: 0.25em;box-sizing: border-box;margin-bottom: 0.5em;}#sk-container-id-7 div.sk-estimator:hover {background-color: #d4ebff;}#sk-container-id-7 div.sk-parallel-item::after {content: \"\";width: 100%;border-bottom: 1px solid gray;flex-grow: 1;}#sk-container-id-7 div.sk-label:hover label.sk-toggleable__label {background-color: #d4ebff;}#sk-container-id-7 div.sk-serial::before {content: \"\";position: absolute;border-left: 1px solid gray;box-sizing: border-box;top: 0;bottom: 0;left: 50%;z-index: 0;}#sk-container-id-7 div.sk-serial {display: flex;flex-direction: column;align-items: center;background-color: white;padding-right: 0.2em;padding-left: 0.2em;position: relative;}#sk-container-id-7 div.sk-item {position: relative;z-index: 1;}#sk-container-id-7 div.sk-parallel {display: flex;align-items: stretch;justify-content: center;background-color: white;position: relative;}#sk-container-id-7 div.sk-item::before, #sk-container-id-7 div.sk-parallel-item::before {content: \"\";position: absolute;border-left: 1px solid gray;box-sizing: border-box;top: 0;bottom: 0;left: 50%;z-index: -1;}#sk-container-id-7 div.sk-parallel-item {display: flex;flex-direction: column;z-index: 1;position: relative;background-color: white;}#sk-container-id-7 div.sk-parallel-item:first-child::after {align-self: flex-end;width: 50%;}#sk-container-id-7 div.sk-parallel-item:last-child::after {align-self: flex-start;width: 50%;}#sk-container-id-7 div.sk-parallel-item:only-child::after {width: 0;}#sk-container-id-7 div.sk-dashed-wrapped {border: 1px dashed gray;margin: 0 0.4em 0.5em 0.4em;box-sizing: border-box;padding-bottom: 0.4em;background-color: white;}#sk-container-id-7 div.sk-label label {font-family: monospace;font-weight: bold;display: inline-block;line-height: 1.2em;}#sk-container-id-7 div.sk-label-container {text-align: center;}#sk-container-id-7 div.sk-container {/* jupyter's `normalize.less` sets `[hidden] { display: none; }` but bootstrap.min.css set `[hidden] { display: none !important; }` so we also need the `!important` here to be able to override the default hidden behavior on the sphinx rendered scikit-learn.org. See: https://github.com/scikit-learn/scikit-learn/issues/21755 */display: inline-block !important;position: relative;}#sk-container-id-7 div.sk-text-repr-fallback {display: none;}</style><div id=\"sk-container-id-7\" class=\"sk-top-container\"><div class=\"sk-text-repr-fallback\"><pre>LinearRegression()</pre><b>In a Jupyter environment, please rerun this cell to show the HTML representation or trust the notebook. <br />On GitHub, the HTML representation is unable to render, please try loading this page with nbviewer.org.</b></div><div class=\"sk-container\" hidden><div class=\"sk-item\"><div class=\"sk-estimator sk-toggleable\"><input class=\"sk-toggleable__control sk-hidden--visually\" id=\"sk-estimator-id-17\" type=\"checkbox\" checked><label for=\"sk-estimator-id-17\" class=\"sk-toggleable__label sk-toggleable__label-arrow\">LinearRegression</label><div class=\"sk-toggleable__content\"><pre>LinearRegression()</pre></div></div></div></div></div>"
      ],
      "text/plain": [
       "LinearRegression()"
      ]
     },
     "execution_count": 52,
     "metadata": {},
     "output_type": "execute_result"
    }
   ],
   "source": [
    "#fit linear regresion to train dataset with goal differences as labels\n",
    "linreg = LinearRegression()\n",
    "linreg.fit(X_train_reg,y_train_reg)"
   ]
  },
  {
   "cell_type": "code",
   "execution_count": 53,
   "id": "278ac911",
   "metadata": {},
   "outputs": [
    {
     "name": "stdout",
     "output_type": "stream",
     "text": [
      "0.560192023633678\n"
     ]
    }
   ],
   "source": [
    "#predict goal differences using linear regression\n",
    "#convert to classes using thresholds\n",
    "lr_prediction = linreg.predict(X_test_reg)\n",
    "lr_prediction = [\"H\" if p > 0.1 else \"A\" if p < -0.1 else \"D\" for p in lr_prediction]\n",
    "print(get_accuracy(y_test_class,lr_prediction))"
   ]
  },
  {
   "cell_type": "code",
   "execution_count": null,
   "id": "0735d0ca",
   "metadata": {},
   "outputs": [],
   "source": []
  },
  {
   "cell_type": "code",
   "execution_count": 54,
   "id": "06c8bafe",
   "metadata": {},
   "outputs": [
    {
     "data": {
      "text/html": [
       "<style>#sk-container-id-8 {color: black;background-color: white;}#sk-container-id-8 pre{padding: 0;}#sk-container-id-8 div.sk-toggleable {background-color: white;}#sk-container-id-8 label.sk-toggleable__label {cursor: pointer;display: block;width: 100%;margin-bottom: 0;padding: 0.3em;box-sizing: border-box;text-align: center;}#sk-container-id-8 label.sk-toggleable__label-arrow:before {content: \"▸\";float: left;margin-right: 0.25em;color: #696969;}#sk-container-id-8 label.sk-toggleable__label-arrow:hover:before {color: black;}#sk-container-id-8 div.sk-estimator:hover label.sk-toggleable__label-arrow:before {color: black;}#sk-container-id-8 div.sk-toggleable__content {max-height: 0;max-width: 0;overflow: hidden;text-align: left;background-color: #f0f8ff;}#sk-container-id-8 div.sk-toggleable__content pre {margin: 0.2em;color: black;border-radius: 0.25em;background-color: #f0f8ff;}#sk-container-id-8 input.sk-toggleable__control:checked~div.sk-toggleable__content {max-height: 200px;max-width: 100%;overflow: auto;}#sk-container-id-8 input.sk-toggleable__control:checked~label.sk-toggleable__label-arrow:before {content: \"▾\";}#sk-container-id-8 div.sk-estimator input.sk-toggleable__control:checked~label.sk-toggleable__label {background-color: #d4ebff;}#sk-container-id-8 div.sk-label input.sk-toggleable__control:checked~label.sk-toggleable__label {background-color: #d4ebff;}#sk-container-id-8 input.sk-hidden--visually {border: 0;clip: rect(1px 1px 1px 1px);clip: rect(1px, 1px, 1px, 1px);height: 1px;margin: -1px;overflow: hidden;padding: 0;position: absolute;width: 1px;}#sk-container-id-8 div.sk-estimator {font-family: monospace;background-color: #f0f8ff;border: 1px dotted black;border-radius: 0.25em;box-sizing: border-box;margin-bottom: 0.5em;}#sk-container-id-8 div.sk-estimator:hover {background-color: #d4ebff;}#sk-container-id-8 div.sk-parallel-item::after {content: \"\";width: 100%;border-bottom: 1px solid gray;flex-grow: 1;}#sk-container-id-8 div.sk-label:hover label.sk-toggleable__label {background-color: #d4ebff;}#sk-container-id-8 div.sk-serial::before {content: \"\";position: absolute;border-left: 1px solid gray;box-sizing: border-box;top: 0;bottom: 0;left: 50%;z-index: 0;}#sk-container-id-8 div.sk-serial {display: flex;flex-direction: column;align-items: center;background-color: white;padding-right: 0.2em;padding-left: 0.2em;position: relative;}#sk-container-id-8 div.sk-item {position: relative;z-index: 1;}#sk-container-id-8 div.sk-parallel {display: flex;align-items: stretch;justify-content: center;background-color: white;position: relative;}#sk-container-id-8 div.sk-item::before, #sk-container-id-8 div.sk-parallel-item::before {content: \"\";position: absolute;border-left: 1px solid gray;box-sizing: border-box;top: 0;bottom: 0;left: 50%;z-index: -1;}#sk-container-id-8 div.sk-parallel-item {display: flex;flex-direction: column;z-index: 1;position: relative;background-color: white;}#sk-container-id-8 div.sk-parallel-item:first-child::after {align-self: flex-end;width: 50%;}#sk-container-id-8 div.sk-parallel-item:last-child::after {align-self: flex-start;width: 50%;}#sk-container-id-8 div.sk-parallel-item:only-child::after {width: 0;}#sk-container-id-8 div.sk-dashed-wrapped {border: 1px dashed gray;margin: 0 0.4em 0.5em 0.4em;box-sizing: border-box;padding-bottom: 0.4em;background-color: white;}#sk-container-id-8 div.sk-label label {font-family: monospace;font-weight: bold;display: inline-block;line-height: 1.2em;}#sk-container-id-8 div.sk-label-container {text-align: center;}#sk-container-id-8 div.sk-container {/* jupyter's `normalize.less` sets `[hidden] { display: none; }` but bootstrap.min.css set `[hidden] { display: none !important; }` so we also need the `!important` here to be able to override the default hidden behavior on the sphinx rendered scikit-learn.org. See: https://github.com/scikit-learn/scikit-learn/issues/21755 */display: inline-block !important;position: relative;}#sk-container-id-8 div.sk-text-repr-fallback {display: none;}</style><div id=\"sk-container-id-8\" class=\"sk-top-container\"><div class=\"sk-text-repr-fallback\"><pre>GridSearchCV(cv=5, estimator=SVR(),\n",
       "             param_grid={&#x27;C&#x27;: [1, 10], &#x27;degree&#x27;: [1, 2],\n",
       "                         &#x27;kernel&#x27;: (&#x27;poly&#x27;, &#x27;rbf&#x27;)})</pre><b>In a Jupyter environment, please rerun this cell to show the HTML representation or trust the notebook. <br />On GitHub, the HTML representation is unable to render, please try loading this page with nbviewer.org.</b></div><div class=\"sk-container\" hidden><div class=\"sk-item sk-dashed-wrapped\"><div class=\"sk-label-container\"><div class=\"sk-label sk-toggleable\"><input class=\"sk-toggleable__control sk-hidden--visually\" id=\"sk-estimator-id-18\" type=\"checkbox\" ><label for=\"sk-estimator-id-18\" class=\"sk-toggleable__label sk-toggleable__label-arrow\">GridSearchCV</label><div class=\"sk-toggleable__content\"><pre>GridSearchCV(cv=5, estimator=SVR(),\n",
       "             param_grid={&#x27;C&#x27;: [1, 10], &#x27;degree&#x27;: [1, 2],\n",
       "                         &#x27;kernel&#x27;: (&#x27;poly&#x27;, &#x27;rbf&#x27;)})</pre></div></div></div><div class=\"sk-parallel\"><div class=\"sk-parallel-item\"><div class=\"sk-item\"><div class=\"sk-label-container\"><div class=\"sk-label sk-toggleable\"><input class=\"sk-toggleable__control sk-hidden--visually\" id=\"sk-estimator-id-19\" type=\"checkbox\" ><label for=\"sk-estimator-id-19\" class=\"sk-toggleable__label sk-toggleable__label-arrow\">estimator: SVR</label><div class=\"sk-toggleable__content\"><pre>SVR()</pre></div></div></div><div class=\"sk-serial\"><div class=\"sk-item\"><div class=\"sk-estimator sk-toggleable\"><input class=\"sk-toggleable__control sk-hidden--visually\" id=\"sk-estimator-id-20\" type=\"checkbox\" ><label for=\"sk-estimator-id-20\" class=\"sk-toggleable__label sk-toggleable__label-arrow\">SVR</label><div class=\"sk-toggleable__content\"><pre>SVR()</pre></div></div></div></div></div></div></div></div></div></div>"
      ],
      "text/plain": [
       "GridSearchCV(cv=5, estimator=SVR(),\n",
       "             param_grid={'C': [1, 10], 'degree': [1, 2],\n",
       "                         'kernel': ('poly', 'rbf')})"
      ]
     },
     "execution_count": 54,
     "metadata": {},
     "output_type": "execute_result"
    }
   ],
   "source": [
    "#define gridsearch parameters for svr\n",
    "#fit model to train dataset with 5 fold corss validation\n",
    "parameters = {'kernel':('poly', 'rbf'), 'C':[1, 10],'degree':[1,2]}\n",
    "svr = GridSearchCV(svm.SVR(),parameters,cv=5)\n",
    "svr.fit(X_train_reg,y_train_reg)"
   ]
  },
  {
   "cell_type": "code",
   "execution_count": 55,
   "id": "34f6317f",
   "metadata": {},
   "outputs": [
    {
     "name": "stdout",
     "output_type": "stream",
     "text": [
      "Best parameters are: {'C': 10, 'degree': 1, 'kernel': 'poly'}\n",
      "\n",
      "\n",
      "0.224 + or -0.029 for the {'C': 1, 'degree': 1, 'kernel': 'poly'}\n",
      "0.195 + or -0.036 for the {'C': 1, 'degree': 1, 'kernel': 'rbf'}\n",
      "-0.017 + or -0.008 for the {'C': 1, 'degree': 2, 'kernel': 'poly'}\n",
      "0.195 + or -0.036 for the {'C': 1, 'degree': 2, 'kernel': 'rbf'}\n",
      "0.224 + or -0.029 for the {'C': 10, 'degree': 1, 'kernel': 'poly'}\n",
      "0.103 + or -0.043 for the {'C': 10, 'degree': 1, 'kernel': 'rbf'}\n",
      "-0.024 + or -0.014 for the {'C': 10, 'degree': 2, 'kernel': 'poly'}\n",
      "0.103 + or -0.043 for the {'C': 10, 'degree': 2, 'kernel': 'rbf'}\n"
     ]
    }
   ],
   "source": [
    "display(svr)"
   ]
  },
  {
   "cell_type": "code",
   "execution_count": 56,
   "id": "0dd59286",
   "metadata": {},
   "outputs": [
    {
     "name": "stdout",
     "output_type": "stream",
     "text": [
      "0.5561299852289513\n"
     ]
    }
   ],
   "source": [
    "#predict goal differences using svr and best parameters found \n",
    "#convert to classes using thresholds\n",
    "svr_prediction = svr.predict(X_test_reg)\n",
    "svr_prediction = [\"H\" if p > 0.1 else \"A\" if p < -0.1 else \"D\" for p in svr_prediction]\n",
    "print(get_accuracy(y_test_class,svr_prediction))"
   ]
  },
  {
   "cell_type": "code",
   "execution_count": null,
   "id": "84e96258",
   "metadata": {},
   "outputs": [],
   "source": []
  },
  {
   "cell_type": "code",
   "execution_count": 57,
   "id": "d04bd857",
   "metadata": {},
   "outputs": [
    {
     "data": {
      "text/html": [
       "<style>#sk-container-id-9 {color: black;background-color: white;}#sk-container-id-9 pre{padding: 0;}#sk-container-id-9 div.sk-toggleable {background-color: white;}#sk-container-id-9 label.sk-toggleable__label {cursor: pointer;display: block;width: 100%;margin-bottom: 0;padding: 0.3em;box-sizing: border-box;text-align: center;}#sk-container-id-9 label.sk-toggleable__label-arrow:before {content: \"▸\";float: left;margin-right: 0.25em;color: #696969;}#sk-container-id-9 label.sk-toggleable__label-arrow:hover:before {color: black;}#sk-container-id-9 div.sk-estimator:hover label.sk-toggleable__label-arrow:before {color: black;}#sk-container-id-9 div.sk-toggleable__content {max-height: 0;max-width: 0;overflow: hidden;text-align: left;background-color: #f0f8ff;}#sk-container-id-9 div.sk-toggleable__content pre {margin: 0.2em;color: black;border-radius: 0.25em;background-color: #f0f8ff;}#sk-container-id-9 input.sk-toggleable__control:checked~div.sk-toggleable__content {max-height: 200px;max-width: 100%;overflow: auto;}#sk-container-id-9 input.sk-toggleable__control:checked~label.sk-toggleable__label-arrow:before {content: \"▾\";}#sk-container-id-9 div.sk-estimator input.sk-toggleable__control:checked~label.sk-toggleable__label {background-color: #d4ebff;}#sk-container-id-9 div.sk-label input.sk-toggleable__control:checked~label.sk-toggleable__label {background-color: #d4ebff;}#sk-container-id-9 input.sk-hidden--visually {border: 0;clip: rect(1px 1px 1px 1px);clip: rect(1px, 1px, 1px, 1px);height: 1px;margin: -1px;overflow: hidden;padding: 0;position: absolute;width: 1px;}#sk-container-id-9 div.sk-estimator {font-family: monospace;background-color: #f0f8ff;border: 1px dotted black;border-radius: 0.25em;box-sizing: border-box;margin-bottom: 0.5em;}#sk-container-id-9 div.sk-estimator:hover {background-color: #d4ebff;}#sk-container-id-9 div.sk-parallel-item::after {content: \"\";width: 100%;border-bottom: 1px solid gray;flex-grow: 1;}#sk-container-id-9 div.sk-label:hover label.sk-toggleable__label {background-color: #d4ebff;}#sk-container-id-9 div.sk-serial::before {content: \"\";position: absolute;border-left: 1px solid gray;box-sizing: border-box;top: 0;bottom: 0;left: 50%;z-index: 0;}#sk-container-id-9 div.sk-serial {display: flex;flex-direction: column;align-items: center;background-color: white;padding-right: 0.2em;padding-left: 0.2em;position: relative;}#sk-container-id-9 div.sk-item {position: relative;z-index: 1;}#sk-container-id-9 div.sk-parallel {display: flex;align-items: stretch;justify-content: center;background-color: white;position: relative;}#sk-container-id-9 div.sk-item::before, #sk-container-id-9 div.sk-parallel-item::before {content: \"\";position: absolute;border-left: 1px solid gray;box-sizing: border-box;top: 0;bottom: 0;left: 50%;z-index: -1;}#sk-container-id-9 div.sk-parallel-item {display: flex;flex-direction: column;z-index: 1;position: relative;background-color: white;}#sk-container-id-9 div.sk-parallel-item:first-child::after {align-self: flex-end;width: 50%;}#sk-container-id-9 div.sk-parallel-item:last-child::after {align-self: flex-start;width: 50%;}#sk-container-id-9 div.sk-parallel-item:only-child::after {width: 0;}#sk-container-id-9 div.sk-dashed-wrapped {border: 1px dashed gray;margin: 0 0.4em 0.5em 0.4em;box-sizing: border-box;padding-bottom: 0.4em;background-color: white;}#sk-container-id-9 div.sk-label label {font-family: monospace;font-weight: bold;display: inline-block;line-height: 1.2em;}#sk-container-id-9 div.sk-label-container {text-align: center;}#sk-container-id-9 div.sk-container {/* jupyter's `normalize.less` sets `[hidden] { display: none; }` but bootstrap.min.css set `[hidden] { display: none !important; }` so we also need the `!important` here to be able to override the default hidden behavior on the sphinx rendered scikit-learn.org. See: https://github.com/scikit-learn/scikit-learn/issues/21755 */display: inline-block !important;position: relative;}#sk-container-id-9 div.sk-text-repr-fallback {display: none;}</style><div id=\"sk-container-id-9\" class=\"sk-top-container\"><div class=\"sk-text-repr-fallback\"><pre>GridSearchCV(cv=5, estimator=MLPRegressor(),\n",
       "             param_grid={&#x27;activation&#x27;: [&#x27;relu&#x27;],\n",
       "                         &#x27;hidden_layer_sizes&#x27;: [(30, 15), (20, 10), (10, 5)],\n",
       "                         &#x27;max_iter&#x27;: [100000], &#x27;solver&#x27;: [&#x27;sgd&#x27;, &#x27;adam&#x27;]})</pre><b>In a Jupyter environment, please rerun this cell to show the HTML representation or trust the notebook. <br />On GitHub, the HTML representation is unable to render, please try loading this page with nbviewer.org.</b></div><div class=\"sk-container\" hidden><div class=\"sk-item sk-dashed-wrapped\"><div class=\"sk-label-container\"><div class=\"sk-label sk-toggleable\"><input class=\"sk-toggleable__control sk-hidden--visually\" id=\"sk-estimator-id-21\" type=\"checkbox\" ><label for=\"sk-estimator-id-21\" class=\"sk-toggleable__label sk-toggleable__label-arrow\">GridSearchCV</label><div class=\"sk-toggleable__content\"><pre>GridSearchCV(cv=5, estimator=MLPRegressor(),\n",
       "             param_grid={&#x27;activation&#x27;: [&#x27;relu&#x27;],\n",
       "                         &#x27;hidden_layer_sizes&#x27;: [(30, 15), (20, 10), (10, 5)],\n",
       "                         &#x27;max_iter&#x27;: [100000], &#x27;solver&#x27;: [&#x27;sgd&#x27;, &#x27;adam&#x27;]})</pre></div></div></div><div class=\"sk-parallel\"><div class=\"sk-parallel-item\"><div class=\"sk-item\"><div class=\"sk-label-container\"><div class=\"sk-label sk-toggleable\"><input class=\"sk-toggleable__control sk-hidden--visually\" id=\"sk-estimator-id-22\" type=\"checkbox\" ><label for=\"sk-estimator-id-22\" class=\"sk-toggleable__label sk-toggleable__label-arrow\">estimator: MLPRegressor</label><div class=\"sk-toggleable__content\"><pre>MLPRegressor()</pre></div></div></div><div class=\"sk-serial\"><div class=\"sk-item\"><div class=\"sk-estimator sk-toggleable\"><input class=\"sk-toggleable__control sk-hidden--visually\" id=\"sk-estimator-id-23\" type=\"checkbox\" ><label for=\"sk-estimator-id-23\" class=\"sk-toggleable__label sk-toggleable__label-arrow\">MLPRegressor</label><div class=\"sk-toggleable__content\"><pre>MLPRegressor()</pre></div></div></div></div></div></div></div></div></div></div>"
      ],
      "text/plain": [
       "GridSearchCV(cv=5, estimator=MLPRegressor(),\n",
       "             param_grid={'activation': ['relu'],\n",
       "                         'hidden_layer_sizes': [(30, 15), (20, 10), (10, 5)],\n",
       "                         'max_iter': [100000], 'solver': ['sgd', 'adam']})"
      ]
     },
     "execution_count": 57,
     "metadata": {},
     "output_type": "execute_result"
    }
   ],
   "source": [
    "#define gridsearch parameters for multi layer perceptron regressor\n",
    "#fit model to train dataset with 5 fold corss validation\n",
    "parameters = {'solver':['sgd','adam'],'activation':['relu'],'hidden_layer_sizes':[(30,15),(20,10),(10,5)],'max_iter':[100000]}\n",
    "mlpr = GridSearchCV(MLPRegressor(),parameters,cv=5)\n",
    "mlpr.fit(X_train_reg,y_train_reg)"
   ]
  },
  {
   "cell_type": "code",
   "execution_count": 58,
   "id": "b600dc92",
   "metadata": {},
   "outputs": [
    {
     "name": "stdout",
     "output_type": "stream",
     "text": [
      "Best parameters are: {'activation': 'relu', 'hidden_layer_sizes': (10, 5), 'max_iter': 100000, 'solver': 'sgd'}\n",
      "\n",
      "\n",
      "0.112 + or -0.047 for the {'activation': 'relu', 'hidden_layer_sizes': (30, 15), 'max_iter': 100000, 'solver': 'sgd'}\n",
      "0.071 + or -0.04 for the {'activation': 'relu', 'hidden_layer_sizes': (30, 15), 'max_iter': 100000, 'solver': 'adam'}\n",
      "0.169 + or -0.046 for the {'activation': 'relu', 'hidden_layer_sizes': (20, 10), 'max_iter': 100000, 'solver': 'sgd'}\n",
      "0.126 + or -0.058 for the {'activation': 'relu', 'hidden_layer_sizes': (20, 10), 'max_iter': 100000, 'solver': 'adam'}\n",
      "0.212 + or -0.041 for the {'activation': 'relu', 'hidden_layer_sizes': (10, 5), 'max_iter': 100000, 'solver': 'sgd'}\n",
      "0.205 + or -0.035 for the {'activation': 'relu', 'hidden_layer_sizes': (10, 5), 'max_iter': 100000, 'solver': 'adam'}\n"
     ]
    }
   ],
   "source": [
    "display(mlpr)"
   ]
  },
  {
   "cell_type": "code",
   "execution_count": 59,
   "id": "6397ea04",
   "metadata": {},
   "outputs": [
    {
     "name": "stdout",
     "output_type": "stream",
     "text": [
      "0.5576070901033974\n"
     ]
    }
   ],
   "source": [
    "#predict goal differences using mlpr and best parameters found \n",
    "#convert to classes using thresholds\n",
    "mlpr_prediction = mlpr.predict(X_test_reg)\n",
    "mlpr_prediction = [\"H\" if p > 0.1 else \"A\" if p < -0.1 else \"D\" for p in mlpr_prediction]\n",
    "print(get_accuracy(y_test_class,mlpr_prediction))"
   ]
  },
  {
   "cell_type": "markdown",
   "id": "fa7fcb91",
   "metadata": {},
   "source": [
    "# Results\n",
    "\n",
    "\n",
    "This section shows the results for each model after tuning each hyperparameters to their optimal values. It's turned out that with n = 8 past matches, a highest average accuracy was found. Therefore, the accuracy for each model was shown below. It was found that SVC works the best with an accuracy of 56.09%. Therefore, a confusion matrix of that model was created to determine how the model predicted the home or away win and how it dealt with draws instead.\n",
    "\n",
    "Lastly, a relative importance of features was investigated in order to determine the features that had the most crucial role compared to the others for the model prediction."
   ]
  },
  {
   "cell_type": "code",
   "execution_count": 60,
   "id": "533641c1",
   "metadata": {},
   "outputs": [
    {
     "data": {
      "text/plain": [
       "<Figure size 432x288 with 0 Axes>"
      ]
     },
     "metadata": {},
     "output_type": "display_data"
    },
    {
     "data": {
      "image/png": "[encoded data removed]",
      "text/plain": [
       "<Figure size 1080x720 with 1 Axes>"
      ]
     },
     "metadata": {
      "needs_background": "light"
     },
     "output_type": "display_data"
    }
   ],
   "source": [
    "fig = plt.figure()\n",
    "model = ['Logistic Regression', 'SVC', 'MLPC', 'kNN', 'RFC', 'Naive Bayes', 'RFR', 'Linear Regression', 'SVR', 'MLPR']\n",
    "accuracy = [0.5606,0.5609,0.5595,0.5521,0.5576,0.5236,0.5554,0.5602,0.5561,0.5591]\n",
    "plt.figure(figsize=(15,10))\n",
    "sns.barplot(x = model,y = accuracy)\n",
    "plt.grid()\n",
    "plt.ylabel('Accuracy')\n",
    "plt.title('Training Model Accuracy')\n",
    "for i in range (len(model)):\n",
    "  plt.text(i, accuracy[i], accuracy[i], ha = 'center', va = 'bottom')\n",
    "plt.show()"
   ]
  },
  {
   "cell_type": "markdown",
   "id": "eb7a6546",
   "metadata": {},
   "source": [
    "# Feature Importance"
   ]
  },
  {
   "cell_type": "markdown",
   "id": "5c652b3b",
   "metadata": {},
   "source": [
    "We shall use permutation analysis to assess each feature importance. This is because it is compatible with the svc model which has been found to have the greatest accuracy for this dataset"
   ]
  },
  {
   "cell_type": "code",
   "execution_count": 61,
   "id": "91df4d0c",
   "metadata": {},
   "outputs": [
    {
     "name": "stdout",
     "output_type": "stream",
     "text": [
      "Feature: 0  Score: 0.0002546380502001178\n",
      "Feature: 1  Score: -0.0015642051655146761\n",
      "Feature: 2  Score: 0.013568570389232471\n",
      "Feature: 3  Score: 0.0004001455074572613\n",
      "Feature: 4  Score: 0.0006547835576573791\n",
      "Feature: 5  Score: 0.0019643506729720263\n",
      "Feature: 6  Score: 0.00025463805020009556\n",
      "Feature: 7  Score: -0.00014550745725714354\n",
      "Feature: 8  Score: 0.00014550745725721014\n",
      "Feature: 9  Score: 0.004256093124772664\n",
      "Feature: 10  Score: 0.004219716260458384\n",
      "Feature: 11  Score: 0.0507457257184431\n",
      "Feature: 12  Score: 0.006620589305201929\n",
      "Feature: 13  Score: -0.0009457984721716661\n",
      "Feature: 14  Score: 3.6376864314346946e-05\n",
      "Feature: 15  Score: -0.0006911604219715928\n"
     ]
    }
   ],
   "source": [
    "# performing permutation importance for the custom dataset for our support vector classifier model\n",
    "r = permutation_importance(svc, X_train_class, y_train_class, scoring='accuracy',random_state =42)\n",
    "# Finding the importance of each feature\n",
    "importance = r.importances_mean\n",
    "\n",
    "# Displaying scores for each feature\n",
    "for feature,score in enumerate(importance):\n",
    "    print('Feature: {}  Score: {}' .format(feature,score))"
   ]
  },
  {
   "cell_type": "code",
   "execution_count": 62,
   "id": "850131b6",
   "metadata": {},
   "outputs": [
    {
     "data": {
      "text/plain": [
       "<Figure size 432x288 with 0 Axes>"
      ]
     },
     "metadata": {},
     "output_type": "display_data"
    },
    {
     "data": {
      "image/png": "[encoded data removed]",
      "text/plain": [
       "<Figure size 1080x720 with 1 Axes>"
      ]
     },
     "metadata": {
      "needs_background": "light"
     },
     "output_type": "display_data"
    }
   ],
   "source": [
    "fig = plt.figure()\n",
    "Names = [\"FTG\",\"HTG\",\"S\",\"ST\",\"C\",\"F\",\"Y\",\"R\",\"Poss%\",\"Pass%\",\"Elo\",\"Rating\",\n",
    "             \"AttackingStrength\",\"DefensiveStrength\",\"MatchupWinRate\",\"WinRate\"]\n",
    "Score = [ 2.55e-04, -1.56e-03,  1.36e-02,  4.00e-04,\n",
    "  6.55e-04,  1.96e-03,  2.55e-04, -1.46e-04,\n",
    "  1.46e-04,  4.26e-03,  4.22e-03,  5.07e-02,\n",
    "  6.62e-03, -9.46e-04,  3.64e-05, -6.91e-04,]\n",
    "plt.figure(figsize=(15,10))\n",
    "sns.barplot(x = Names,y = Score)\n",
    "plt.xlabel('Feature Name')\n",
    "plt.ylabel(\"Feature Importance\")\n",
    "plt.xticks(rotation='vertical')\n",
    "for i in range (len(Names)):\n",
    "  plt.text(i, Score[i], Score[i], ha = 'center', va = 'bottom', rotation = \"vertical\")\n",
    "plt.show()\n",
    "plt.show()"
   ]
  },
  {
   "cell_type": "markdown",
   "id": "32186f32",
   "metadata": {},
   "source": [
    "# PCA"
   ]
  },
  {
   "cell_type": "code",
   "execution_count": 63,
   "id": "f76fe566",
   "metadata": {},
   "outputs": [
    {
     "data": {
      "text/plain": [
       "array([[-1.94943621, -0.39296455, -0.18715461, ..., -0.09985795,\n",
       "         0.03993214, -0.06694929],\n",
       "       [ 2.73290379, -1.84414822, -1.53607198, ..., -0.87393489,\n",
       "        -0.44441615, -0.05989588],\n",
       "       [-3.87673037, -2.61421443,  1.05435091, ...,  0.03938169,\n",
       "        -0.03800388,  0.03654491],\n",
       "       ...,\n",
       "       [-4.94400921,  0.52056812,  0.02566559, ..., -0.25431441,\n",
       "         0.02728117, -0.38562131],\n",
       "       [ 1.03835658,  1.60707181, -0.13638146, ..., -0.18352021,\n",
       "        -0.02478223,  0.33132394],\n",
       "       [-1.96206905,  1.82726524, -1.44898699, ..., -0.38153622,\n",
       "         0.32099091,  0.13177631]])"
      ]
     },
     "execution_count": 63,
     "metadata": {},
     "output_type": "execute_result"
    }
   ],
   "source": [
    "#Applying PCA\n",
    "pca = PCA()\n",
    "pca.fit_transform(X_train_class)"
   ]
  },
  {
   "cell_type": "code",
   "execution_count": 64,
   "id": "7170f323",
   "metadata": {},
   "outputs": [
    {
     "name": "stdout",
     "output_type": "stream",
     "text": [
      "0.560930576070901\n"
     ]
    }
   ],
   "source": [
    "svc_prediction_class = svc.predict(X_test_class)\n",
    "print(get_accuracy(y_test_class,svc_prediction_class))"
   ]
  },
  {
   "cell_type": "code",
   "execution_count": 65,
   "id": "86204586",
   "metadata": {},
   "outputs": [
    {
     "name": "stdout",
     "output_type": "stream",
     "text": [
      "[0.49182445 0.08689062 0.07564217 0.06443776 0.05490017 0.05200033\n",
      " 0.03327045 0.03125261 0.02374859 0.02074145 0.01782429 0.01692593\n",
      " 0.01330542 0.00877913 0.00535782 0.00309881]\n"
     ]
    }
   ],
   "source": [
    "#Finding the explained variance. This is used in excel to plot the cumulative\n",
    "#explained variance figure in the report\n",
    "explained_variance = pca.explained_variance_ratio_\n",
    "print(explained_variance)"
   ]
  },
  {
   "cell_type": "code",
   "execution_count": 66,
   "id": "9fd0f4c0",
   "metadata": {},
   "outputs": [
    {
     "name": "stdout",
     "output_type": "stream",
     "text": [
      "0.560930576070901\n"
     ]
    }
   ],
   "source": [
    "#number of principle components chosen based on 95% confidence interval\n",
    "#Training with 11 principal components using an SVC model\n",
    "pca = PCA(n_components = 11)\n",
    "X_train_pca = pca.fit_transform(X_train_class)\n",
    "X_test_pca = pca.transform(X_test_class)\n",
    "parameters = {'kernel':('poly', 'rbf'), 'C':[1, 10],'degree':[1,2]}\n",
    "svc_pca = GridSearchCV(SVC(), parameters,cv=5)\n",
    "svc_pca.fit(X_train_pca,y_train_class)\n",
    "svc_prediction_pca = svc_pca.predict(X_test_pca)\n",
    "#print(classification_report(y_test_class,svc_prediction_class))\n",
    "print(get_accuracy(y_test_class,svc_prediction_pca))"
   ]
  },
  {
   "cell_type": "markdown",
   "id": "bee74aec",
   "metadata": {},
   "source": [
    "# Confusion Matrix"
   ]
  },
  {
   "cell_type": "code",
   "execution_count": 67,
   "id": "4a441c1c",
   "metadata": {},
   "outputs": [
    {
     "data": {
      "image/png": "[encoded data removed]",
      "text/plain": [
       "<Figure size 540x540 with 1 Axes>"
      ]
     },
     "metadata": {
      "needs_background": "light"
     },
     "output_type": "display_data"
    }
   ],
   "source": [
    "conf_matrix = confusion_matrix(y_test_class,svc_prediction_pca)\n",
    "fig, ax = plt.subplots(figsize=(7.5, 7.5))\n",
    "ax.matshow(conf_matrix, cmap=plt.cm.Blues, alpha=0.3)\n",
    "for i in range(conf_matrix.shape[0]):\n",
    "    for j in range(conf_matrix.shape[1]):\n",
    "        ax.text(x=j, y=i,s=conf_matrix[i, j], va='center', ha='center', size='xx-large')\n",
    "\n",
    "plt.xlabel('Predictions', fontsize=18)\n",
    "plt.ylabel('Actuals', fontsize=18)\n",
    "plt.title('Confusion Matrix', fontsize=18)\n",
    "plt.show()"
   ]
  },
  {
   "cell_type": "markdown",
   "id": "595944e8",
   "metadata": {},
   "source": [
    "# Final Predictions on Test Set\n",
    "\n",
    "Lastly, this section is dedicated to the code used to predict the matches of matchweek 20. The prediction showed no draws which implies that the training data had fewer draws matches than win or losses which affected the algorithm's prediction."
   ]
  },
  {
   "cell_type": "code",
   "execution_count": 68,
   "id": "85e12a09",
   "metadata": {},
   "outputs": [],
   "source": [
    "#collect features required to predict lables of test dataset using found best n value\n",
    "test_x = pd.DataFrame()\n",
    "n = 8\n",
    "for i in range(len(data_test)):\n",
    "    date = data_test.loc[i,\"Date\"]\n",
    "    ht = data_test.loc[i,\"HomeTeam\"]\n",
    "    at = data_test.loc[i,\"AwayTeam\"]\n",
    "    rolling_avg_ht = get_rolling_average(data_train,ht,n,date)\n",
    "    rolling_avg_at = get_rolling_average(data_train,at,n,date)\n",
    "    if not (rolling_avg_ht.empty or rolling_avg_at.empty):\n",
    "        extra_features = get_extra_features(data_test,i)\n",
    "        test_x = pd.concat([test_x, pd.concat([rolling_avg_ht-rolling_avg_at,extra_features],axis=1)], axis=0)"
   ]
  },
  {
   "cell_type": "code",
   "execution_count": 69,
   "id": "96590a6c",
   "metadata": {},
   "outputs": [],
   "source": [
    "#scale the features\n",
    "for col in test_x.columns:\n",
    "    test_x[col] = scale(test_x[col])"
   ]
  },
  {
   "cell_type": "code",
   "execution_count": 70,
   "id": "f22f5049",
   "metadata": {},
   "outputs": [],
   "source": [
    "#transform the features using trained pca\n",
    "test_x = pca.transform(test_x)"
   ]
  },
  {
   "cell_type": "code",
   "execution_count": 71,
   "id": "37bf9432",
   "metadata": {},
   "outputs": [],
   "source": [
    "#predict labels for test class using found best model with pca -- svr\n",
    "final_pred = svc_pca.predict(test_x)"
   ]
  },
  {
   "cell_type": "code",
   "execution_count": 72,
   "id": "30f07f67",
   "metadata": {},
   "outputs": [],
   "source": [
    "#add labels to test csv and export \n",
    "submission = pd.read_csv(\"epl-test.csv\")\n",
    "submission[\"FTR\"] = final_pred\n",
    "submission.to_csv(\"submission.csv\",index=False)"
   ]
  },
  {
   "cell_type": "code",
   "execution_count": 73,
   "id": "50ba69e4",
   "metadata": {},
   "outputs": [
    {
     "data": {
      "text/html": [
       "<div>\n",
       "<style scoped>\n",
       "    .dataframe tbody tr th:only-of-type {\n",
       "        vertical-align: middle;\n",
       "    }\n",
       "\n",
       "    .dataframe tbody tr th {\n",
       "        vertical-align: top;\n",
       "    }\n",
       "\n",
       "    .dataframe thead th {\n",
       "        text-align: right;\n",
       "    }\n",
       "</style>\n",
       "<table border=\"1\" class=\"dataframe\">\n",
       "  <thead>\n",
       "    <tr style=\"text-align: right;\">\n",
       "      <th></th>\n",
       "      <th>Date</th>\n",
       "      <th>HomeTeam</th>\n",
       "      <th>AwayTeam</th>\n",
       "      <th>FTR</th>\n",
       "    </tr>\n",
       "  </thead>\n",
       "  <tbody>\n",
       "    <tr>\n",
       "      <th>0</th>\n",
       "      <td>14/01/2023</td>\n",
       "      <td>Aston Villa</td>\n",
       "      <td>Leeds</td>\n",
       "      <td>H</td>\n",
       "    </tr>\n",
       "    <tr>\n",
       "      <th>1</th>\n",
       "      <td>14/01/2023</td>\n",
       "      <td>Brentford</td>\n",
       "      <td>Bournemouth</td>\n",
       "      <td>H</td>\n",
       "    </tr>\n",
       "    <tr>\n",
       "      <th>2</th>\n",
       "      <td>14/01/2023</td>\n",
       "      <td>Brighton</td>\n",
       "      <td>Liverpool</td>\n",
       "      <td>A</td>\n",
       "    </tr>\n",
       "    <tr>\n",
       "      <th>3</th>\n",
       "      <td>14/01/2023</td>\n",
       "      <td>Chelsea</td>\n",
       "      <td>Crystal Palace</td>\n",
       "      <td>H</td>\n",
       "    </tr>\n",
       "    <tr>\n",
       "      <th>4</th>\n",
       "      <td>14/01/2023</td>\n",
       "      <td>Everton</td>\n",
       "      <td>Southampton</td>\n",
       "      <td>H</td>\n",
       "    </tr>\n",
       "    <tr>\n",
       "      <th>5</th>\n",
       "      <td>14/01/2023</td>\n",
       "      <td>Man United</td>\n",
       "      <td>Man City</td>\n",
       "      <td>A</td>\n",
       "    </tr>\n",
       "    <tr>\n",
       "      <th>6</th>\n",
       "      <td>14/01/2023</td>\n",
       "      <td>Newcastle</td>\n",
       "      <td>Fulham</td>\n",
       "      <td>H</td>\n",
       "    </tr>\n",
       "    <tr>\n",
       "      <th>7</th>\n",
       "      <td>14/01/2023</td>\n",
       "      <td>Nott'm Forest</td>\n",
       "      <td>Leicester</td>\n",
       "      <td>A</td>\n",
       "    </tr>\n",
       "    <tr>\n",
       "      <th>8</th>\n",
       "      <td>14/01/2023</td>\n",
       "      <td>Tottenham</td>\n",
       "      <td>Arsenal</td>\n",
       "      <td>A</td>\n",
       "    </tr>\n",
       "    <tr>\n",
       "      <th>9</th>\n",
       "      <td>14/01/2023</td>\n",
       "      <td>Wolves</td>\n",
       "      <td>West Ham</td>\n",
       "      <td>A</td>\n",
       "    </tr>\n",
       "  </tbody>\n",
       "</table>\n",
       "</div>"
      ],
      "text/plain": [
       "         Date       HomeTeam        AwayTeam FTR\n",
       "0  14/01/2023    Aston Villa           Leeds   H\n",
       "1  14/01/2023      Brentford     Bournemouth   H\n",
       "2  14/01/2023       Brighton       Liverpool   A\n",
       "3  14/01/2023        Chelsea  Crystal Palace   H\n",
       "4  14/01/2023        Everton     Southampton   H\n",
       "5  14/01/2023     Man United        Man City   A\n",
       "6  14/01/2023      Newcastle          Fulham   H\n",
       "7  14/01/2023  Nott'm Forest       Leicester   A\n",
       "8  14/01/2023      Tottenham         Arsenal   A\n",
       "9  14/01/2023         Wolves        West Ham   A"
      ]
     },
     "execution_count": 73,
     "metadata": {},
     "output_type": "execute_result"
    }
   ],
   "source": [
    "submission"
   ]
  },
  {
   "cell_type": "markdown",
   "id": "714c9a60",
   "metadata": {},
   "source": [
    "# Appendix\n",
    "\n",
    "In the appendix below the code related to the new features were desrcibed. These include:\n",
    "\n",
    "- Home and away team Elo ratings\n",
    "\n",
    "- Home and away team Matchup win rate\n",
    "\n",
    "- Home and away team win rate\n",
    "\n",
    "- Home and away attacking strength\n",
    "\n",
    "- Home and away defensive strength"
   ]
  },
  {
   "cell_type": "markdown",
   "id": "db49f5b5",
   "metadata": {},
   "source": [
    "# Import Data"
   ]
  },
  {
   "cell_type": "code",
   "execution_count": 102,
   "id": "defcb7c2",
   "metadata": {},
   "outputs": [],
   "source": [
    "import pandas as pd\n",
    "data = pd.read_csv(\"epl-training.csv\")\n",
    "initial_elo_data = pd.read_csv(\"initial_elos.csv\")"
   ]
  },
  {
   "cell_type": "markdown",
   "id": "6b8dbd8f",
   "metadata": {},
   "source": [
    "# Initial Elo\n",
    "\n",
    "Initialises the elo for each group. One function sets them all the 1000, another one reads off a csv file."
   ]
  },
  {
   "cell_type": "code",
   "execution_count": 103,
   "id": "a1eedbff",
   "metadata": {},
   "outputs": [],
   "source": [
    "def elo_1000(data):\n",
    "    'returns a dictionary of elo scores for each team set to 1000'\n",
    "    elo_1000 = {}\n",
    "    home_team_index, away_team_index = get_indices(data)\n",
    "    for row in range(data.shape[0]):\n",
    "        for column in [home_team_index, away_team_index]:\n",
    "            team = data.iloc[row,column]\n",
    "            if team not in elo_1000:\n",
    "                elo_1000[team] = 1000\n",
    "    return elo_1000\n",
    "\n",
    "def get_indices(data, column_names):\n",
    "    'input data and a list of names to find indices for. returns a list of indices'\n",
    "    indices = []\n",
    "    for name in column_names:\n",
    "        indices.append(data.columns.get_loc(name))\n",
    "    return indices\n",
    "\n",
    "def initial_elo(data):\n",
    "    'reads a csv file with initial elos for each team'\n",
    "    initial_elo = {}\n",
    "    team_name_index, elo_index = get_indices(data, ['Unique teams', 'Initial ELO Values'])\n",
    "    for row in range(data.shape[0]):\n",
    "        initial_elo[data.iloc[row,team_name_index]] = data.iloc[row,elo_index]\n",
    "    return initial_elo\n",
    "\n",
    "def fill_teams(data, elos):\n",
    "    'takes list of elos and sets all missed teams to 1000 elo'\n",
    "    for row in range(data.shape[0]):\n",
    "        for column in [1, 2]:\n",
    "            team = data.iloc[row,column]\n",
    "            if team not in elos:\n",
    "                elos[team] = 1000\n",
    "    return elos"
   ]
  },
  {
   "cell_type": "markdown",
   "id": "34859ced",
   "metadata": {},
   "source": [
    "# Elo Calculation\n",
    "\n",
    "Uses the formula on wikipedia page for 'world football elo ratings'. The same formula can be found elsewhere."
   ]
  },
  {
   "cell_type": "code",
   "execution_count": 104,
   "id": "3329ea6a",
   "metadata": {},
   "outputs": [],
   "source": [
    "def elo_calc(target_team, other_team, goal_difference, elo_scores, home_team, result):\n",
    "    K = 40 # for non-major tournaments\n",
    "    denom = 10**(-dr(target_team, other_team, elo_scores)/400) + 1\n",
    "    new_elo = elo_scores[target_team] + K*G(goal_difference)*(W(target_team, home_team, result)-1/denom)\n",
    "    return new_elo\n",
    "\n",
    "def G(goal_difference):\n",
    "    'goal difference index'\n",
    "    if goal_difference < 2:\n",
    "        g = 1\n",
    "    elif goal_difference == 2:\n",
    "        g = 3/2\n",
    "    else:\n",
    "        g = (11+goal_difference)/8\n",
    "    return g\n",
    "\n",
    "def dr(target_team, other_team, elo_scores):\n",
    "    'elo difference'\n",
    "    target_team_elo = elo_scores[target_team]\n",
    "    other_team_elo = elo_scores[other_team]\n",
    "    dr = target_team_elo - other_team_elo\n",
    "    return dr\n",
    "    \n",
    "def W(target_team, home_team, result):\n",
    "    'number depending on the result'\n",
    "    w = 0\n",
    "    if result == 'D':\n",
    "        w = 0.5\n",
    "    elif target_team == home_team:\n",
    "        if result == 'H':\n",
    "            w = 1\n",
    "    else:\n",
    "        if result == 'A':\n",
    "            w = 1\n",
    "    return w"
   ]
  },
  {
   "cell_type": "markdown",
   "id": "eec4c73a",
   "metadata": {},
   "source": [
    "# Generate Elos\n",
    "\n",
    "Elo ratings are updated after each game."
   ]
  },
  {
   "cell_type": "code",
   "execution_count": 105,
   "id": "fe9c9b62",
   "metadata": {},
   "outputs": [],
   "source": [
    "def generate_elos(data, elo_scores):\n",
    "    'takes in match data and inintial elo scores then returns lists of the home and away team elos for each match'\n",
    "    home_team_elo = [] # initialise lists for data storage\n",
    "    away_team_elo = []\n",
    "\n",
    "    for row in range(data.shape[0]): # for each match\n",
    "        \n",
    "        home_team_index, away_team_index, FTHG_index, FTAG_index, FTR_index = get_indices(data, ['HomeTeam','AwayTeam','FTHG','FTAG','FTR'])\n",
    "        home_team = data.iloc[row,home_team_index] # find useful data for each match\n",
    "        away_team = data.iloc[row,away_team_index]\n",
    "        home_goals = data.iloc[row,FTHG_index]\n",
    "        away_goals = data.iloc[row,FTAG_index]\n",
    "        result = data.iloc[row,FTR_index]\n",
    "\n",
    "        goal_difference = home_goals-away_goals # calculate goal difference\n",
    "        if goal_difference < 1:\n",
    "            goal_difference *= -1\n",
    "\n",
    "        # current home and away team elos\n",
    "        home_team_elo.append(elo_scores[home_team])\n",
    "        away_team_elo.append(elo_scores[away_team])\n",
    "\n",
    "        # calculate new elos\n",
    "        new_home_team_elo = elo_calc(home_team, away_team, goal_difference, elo_scores, home_team, result) # calculate new elo\n",
    "        new_away_team_elo = elo_calc(away_team, home_team, goal_difference, elo_scores, home_team, result)\n",
    "\n",
    "        elo_scores[home_team] = new_home_team_elo # update elo\n",
    "        elo_scores[away_team] = new_away_team_elo\n",
    "\n",
    "    return home_team_elo, away_team_elo, elo_scores"
   ]
  },
  {
   "cell_type": "markdown",
   "id": "bd6eba61",
   "metadata": {},
   "source": [
    "# Running Elo Generation\n",
    "\n",
    "Finding the final elos for each team."
   ]
  },
  {
   "cell_type": "code",
   "execution_count": 106,
   "id": "0c09a273",
   "metadata": {},
   "outputs": [
    {
     "name": "stdout",
     "output_type": "stream",
     "text": [
      "{'Charlton': 1862.5063327184514, 'Chelsea': 2055.021224456863, 'Coventry': 1819.9783610172553, 'Derby': 1601.8322836496195, 'Leeds': 1883.8462132792606, 'Leicester': 1958.2880703056574, 'Liverpool': 2187.355915815568, 'Sunderland': 1764.2853403200982, 'Tottenham': 2131.1039805273404, 'Man United': 2102.7649385159834, 'Arsenal': 2195.4845289826426, 'Bradford': 1770.456656052701, 'Ipswich': 1849.5231951609044, 'Middlesbrough': 1774.9302936798101, 'Everton': 1936.683397849172, 'Man City': 2326.314961787349, 'Newcastle': 2137.1975835761714, 'Southampton': 1847.4440507813877, 'West Ham': 1958.742851797833, 'Aston Villa': 1895.207161191757, 'Bolton': 1850.668839243225, 'Blackburn': 1809.395542302713, 'Fulham': 1902.1352251568137, 'Birmingham': 1841.368729049141, 'West Brom': 1814.0149034301146, 'Wolves': 1831.5300155092834, 'Portsmouth': 1827.256828354347, 'Norwich': 1701.9253769204417, 'Crystal Palace': 1982.388986598171, 'Wigan': 1885.730715791088, 'Watford': 1719.1660000377249, 'Sheffield United': 1783.3782014339063, 'Reading': 1783.0384467272484, 'Stoke': 1865.5341698308189, 'Hull': 1818.0818982397839, 'Blackpool': 1834.7517974123107, 'QPR': 1803.188302249023, 'Swansea': 1847.7961697199246, 'Cardiff': 1829.402652154317, 'Burnley': 1875.6831021236092, 'Bournemouth': 1856.7469840841516, 'Brighton': 2046.9110729550991, 'Huddersfield': 1678.3475475678736, 'Brentford': 1934.5714021154029, \"Nott'm Forest\": 1822.019749527637, nan: nan}\n"
     ]
    }
   ],
   "source": [
    "elo_scores = initial_elo(initial_elo_data) # elo for each team is initialised\n",
    "elo_scores = fill_teams(data, elo_scores) # missing teams are initialised\n",
    "home_team_elo, away_team_elo, final_scores = generate_elos(data, elo_scores) # elos are generated\n",
    "\n",
    "data['HomeTeamElo'] = home_team_elo # add to csv\n",
    "data['AwayTeamElo'] = away_team_elo\n",
    "\n",
    "export_data = False\n",
    "if export_data:\n",
    "    data.to_csv('home_n_away_elo_with_init_elos.csv')\n",
    "\n",
    "print(final_scores)"
   ]
  },
  {
   "cell_type": "markdown",
   "id": "51ea3d26",
   "metadata": {},
   "source": [
    "# Adding elo scores to test data\n",
    "\n",
    "The test data needs to have the same features, these are the latest calculated elo scores for each team."
   ]
  },
  {
   "cell_type": "code",
   "execution_count": 107,
   "id": "35116cd7",
   "metadata": {},
   "outputs": [
    {
     "name": "stdout",
     "output_type": "stream",
     "text": [
      "missing teams are: []\n"
     ]
    }
   ],
   "source": [
    "data_test = pd.read_csv(\"epl-test.csv\") # the epl-test file\n",
    "\n",
    "def extract_teams(data):\n",
    "    'list the teams in the test data set'\n",
    "    teams_of_interest = []\n",
    "    home_team_index, away_team_index = get_indices(data, ['HomeTeam','AwayTeam'])\n",
    "    for column in [home_team_index,away_team_index]:\n",
    "        for row in range(data.shape[0]):\n",
    "            team = data.iloc[row,column]\n",
    "            if team not in teams_of_interest:\n",
    "                teams_of_interest.append(team)\n",
    "    return teams_of_interest\n",
    "\n",
    "def find_missing_teams(teams_of_interest, final_scores):\n",
    "    'checks if teams do not already have elos'\n",
    "    missing_teams = []\n",
    "    for team in teams_of_interest:\n",
    "        if team not in final_scores:\n",
    "            missing_teams.append(team)\n",
    "    return missing_teams\n",
    "\n",
    "def compile_home_n_away_elo(data, final_scores):\n",
    "    'generates the home and away elos for the dataset'\n",
    "    home_elo = []\n",
    "    away_elo = []\n",
    "    home_team_index, away_team_index = get_indices(data, ['HomeTeam','AwayTeam'])\n",
    "    for column in [home_team_index,away_team_index]:\n",
    "        for row in range(data.shape[0]):\n",
    "            team = data.iloc[row,column]\n",
    "            if column == 1:\n",
    "                home_elo.append(final_scores[team])\n",
    "            else:\n",
    "                away_elo.append(final_scores[team])\n",
    "    return home_elo, away_elo\n",
    "\n",
    "teams_of_interest = extract_teams(data_test) # extract teams from the test file\n",
    "missing_teams = find_missing_teams(teams_of_interest, final_scores) # see if any of them do not already have elo ratings\n",
    "print('missing teams are:', missing_teams)\n",
    "\n",
    "home_elo, away_elo = compile_home_n_away_elo(data_test, final_scores) # list each team's elo rating\n",
    "\n",
    "data_test['HomeTeamElo'] = home_elo # add to csv\n",
    "data_test['AwayTeamElo'] = away_elo\n",
    "\n",
    "export_data = False # create csv\n",
    "if export_data:\n",
    "    data_test.to_csv('epl_test_with_home_n_away_elos.csv')"
   ]
  },
  {
   "cell_type": "markdown",
   "id": "023f7d2d",
   "metadata": {},
   "source": [
    "# Winrate calculation\n",
    "\n",
    "The data is stored in a objects of the epl_team class. Wins and total games are tracked for each matchup, and then winrate is calculated. This class was used for future calculations as well."
   ]
  },
  {
   "cell_type": "code",
   "execution_count": 108,
   "id": "8f92c1bf",
   "metadata": {},
   "outputs": [],
   "source": [
    "import numpy as np\n",
    "\n",
    "class epl_team:\n",
    "    'each team has a name, opponents, and winwrate data'\n",
    "    def __init__(self, name, opponents):\n",
    "        self.name = name\n",
    "        self.opponents = opponents\n",
    "\n",
    "        self.matchup_wins = {} # dictionary of ('opponent': wins_vs_opponent)\n",
    "        self.matchup_games = {} # ('opponent': games_vs_opponent)\n",
    "        self.matchup_winrates = {} # ('opponent': winrate_vs_opponent)\n",
    "        self.matchup_results = {} #('opponent': [list of results from previous matches])\n",
    "\n",
    "        self.total_games = 0 # home and away win rate calculations\n",
    "        self.home_wins = 0\n",
    "        self.away_wins = 0\n",
    "        self.home_games = 0\n",
    "        self.away_games = 0\n",
    "        self.home_winrate = 0\n",
    "        self.away_winrate = 0\n",
    "\n",
    "        self.home_attacking_strength = 0 # team strength calculations\n",
    "        self.home_defensive_strength = 0\n",
    "        self.away_attacking_strength = 0\n",
    "        self.away_defensive_strength = 0\n",
    "        self.home_goals_scored = 0\n",
    "        self.away_goals_scored = 0\n",
    "        self.home_goals_conceded = 0\n",
    "        self.away_goals_conceded = 0\n",
    "        \n",
    "        for opponent in opponents: # initialise matchup calculations\n",
    "            self.matchup_wins[opponent] = 0\n",
    "            self.matchup_games[opponent] = 0\n",
    "            self.matchup_winrates[opponent] = 0\n",
    "            self.matchup_results[opponent] = []\n",
    "\n",
    "    def update_matchup_winrates(self):\n",
    "        'calculates win rate for each team using wins and total games in each matchup'\n",
    "        for opponent in self.opponents:\n",
    "            self.matchup_winrates[opponent] = (self.matchup_wins[opponent]+1)/(self.matchup_games[opponent]+3)\n",
    "\n",
    "    def update_total_games(self):\n",
    "        '''calculates a team's total games using total games in each matchup'''\n",
    "        self.total_games = 0\n",
    "        for matchup in self.matchup_games:\n",
    "            self.total_games += self.matchup_games[matchup]    \n",
    "\n",
    "    def update_home_away_winrate(self):\n",
    "        'calculates the home and away win rates of a team'\n",
    "        try:\n",
    "            self.home_winrate = (self.home_wins+1)/(self.home_games+3)\n",
    "            self.away_winrate = (self.away_wins+1)/(self.away_games+3)\n",
    "        except ZeroDivisionError:\n",
    "            pass\n",
    "\n",
    "    def update_home_strength(self,avg_home_goals,avg_home_goals_conceded): # parameters are goals scored and conceded as home\n",
    "        self.home_attacking_strength = (self.home_goals_scored+10)/(self.home_games+10)/avg_home_goals\n",
    "        self.home_defensive_strength = (self.home_goals_conceded+10)/(self.home_games+10)/avg_home_goals_conceded\n",
    "\n",
    "    def update_away_strength(self,avg_away_goals_conceded,avg_away_goals):\n",
    "        self.away_attacking_strength = (self.away_goals_scored+10)/(self.away_games+10)/avg_away_goals\n",
    "        self.away_defensive_strength = (self.away_goals_conceded+10)/(self.away_games+10)/avg_away_goals_conceded\n",
    "    \n",
    "    @classmethod\n",
    "    def update_all_matchup_winrates(self, teams_data):\n",
    "        for team in teams_data:\n",
    "            teams_data[team].update_matchup_winrates()\n",
    "            \n",
    "    @classmethod\n",
    "    def update_all_total_games(self, teams_data):\n",
    "        for team in teams_data:\n",
    "            teams_data[team].update_total_games()\n",
    "\n",
    "    @classmethod\n",
    "    def update_all_home_away_winrate(self, teams_data):\n",
    "        for team in teams_data:\n",
    "            teams_data[team].update_home_away_winrate()\n",
    "    \n",
    "    @classmethod\n",
    "    def update_all_home_strength(self,teams_data,avg_fthg,avg_ftag):\n",
    "        for team in (teams_data):\n",
    "            teams_data[team].update_home_strength(avg_fthg,avg_ftag)\n",
    "            \n",
    "    @classmethod\n",
    "    def update_all_away_strength(self,teams_data,avg_fthg,avg_ftag):\n",
    "        for team in teams_data:\n",
    "            teams_data[team].update_away_strength(avg_fthg,avg_ftag)\n",
    "\n",
    "def init_teams(teams): \n",
    "    'create an object for each team in a list, return a dictionary of those objects'\n",
    "    team_objects = {}\n",
    "    for team in teams:\n",
    "        remaining_teams = teams.copy()\n",
    "        remaining_teams.remove(team)\n",
    "        team_objects[team] = epl_team(team,remaining_teams)\n",
    "    return team_objects"
   ]
  },
  {
   "cell_type": "markdown",
   "id": "e03ec710",
   "metadata": {},
   "source": [
    "# Winrate tracking\n",
    "\n",
    "Running through data and tracking wins and games to calculate matchup win rates."
   ]
  },
  {
   "cell_type": "code",
   "execution_count": 109,
   "id": "3c934e1b",
   "metadata": {},
   "outputs": [],
   "source": [
    "def track_matchup_winrate(data, teams_data):\n",
    "    'finds the number of wins and games played for each team in each matchup in the data'\n",
    "    home_win_rate = [] # list for appedning to the csv as a feature\n",
    "    away_win_rate = []\n",
    "    home_team_index, away_team_index, FTR_index = get_indices(data, ['HomeTeam', 'AwayTeam','FTR'])\n",
    "    epl_team.update_all_matchup_winrates(teams_data)\n",
    "\n",
    "    for row in range(data.shape[0]): # for each match\n",
    "        home_team = data.iloc[row,home_team_index] # find useful data for each match\n",
    "        away_team = data.iloc[row,away_team_index]\n",
    "        result = data.iloc[row,FTR_index]\n",
    "        \n",
    "        try:\n",
    "            hwr = teams_data[home_team].matchup_winrates[away_team] # get the home winrate vs the away team\n",
    "            awr = teams_data[away_team].matchup_winrates[home_team] # get the away winrate vs the home team\n",
    "        except KeyError:\n",
    "            hwr = np.nan\n",
    "            awr = np.nan\n",
    "        home_win_rate.append(hwr) # add to list for appending to csv\n",
    "        away_win_rate.append(awr)\n",
    "        \n",
    "        try:\n",
    "            teams_data[home_team].matchup_games[away_team] += 1 # add one game to the matchup\n",
    "            teams_data[away_team].matchup_games[home_team] += 1\n",
    "        except KeyError:\n",
    "            teams_data[home_team].update_matchup_winrates()\n",
    "            teams_data[away_team].update_matchup_winrates()\n",
    "            continue\n",
    "\n",
    "        if result == 'D': # ignore draws\n",
    "            pass\n",
    "        elif result == 'H':\n",
    "            teams_data[home_team].matchup_wins[away_team] += 1 # add a win for the home team\n",
    "        else:\n",
    "            teams_data[away_team].matchup_wins[home_team] += 1 # or for the away team\n",
    "\n",
    "        teams_data[home_team].update_matchup_winrates() # calculate new matchup winrate from the new data\n",
    "        teams_data[away_team].update_matchup_winrates()\n",
    "        \n",
    "    return home_win_rate, away_win_rate\n",
    "\n",
    "def compile_win_rates(teams_data, data):\n",
    "    'puts matchup win rates into test csv'\n",
    "    home_win_rate = []\n",
    "    away_win_rate = []\n",
    "    home_team_index, away_team_index = get_indices(data, ['HomeTeam', 'AwayTeam'])\n",
    "\n",
    "    epl_team.update_all_matchup_winrates(teams_data)\n",
    "    for row in range(data.shape[0]): # for each match\n",
    "        home_team = data.iloc[row,home_team_index] # find useful data for each match\n",
    "        away_team = data.iloc[row,away_team_index]\n",
    "        try:\n",
    "            home_team_wr = teams_data[home_team].matchup_winrates[away_team]\n",
    "            away_team_wr = teams_data[away_team].matchup_winrates[home_team]\n",
    "        except KeyError:\n",
    "            home_team_wr = np.nan\n",
    "            away_team_wr = np.nan\n",
    "        home_win_rate.append(home_team_wr)\n",
    "        away_win_rate.append(away_team_wr)\n",
    "    \n",
    "    return home_win_rate, away_win_rate"
   ]
  },
  {
   "cell_type": "markdown",
   "id": "5efb092c",
   "metadata": {},
   "source": [
    "# Running Matchup Winrate calculation\n",
    "\n",
    "The winrate for each matchup is generated and then picked out and appended to the .csv"
   ]
  },
  {
   "cell_type": "code",
   "execution_count": 114,
   "id": "27db1cef",
   "metadata": {},
   "outputs": [],
   "source": [
    "data_train = pd.read_csv(\"elo_calculations1.csv\")\n",
    "data.head() # elo calculation dataframe that anishtan added to\n",
    "\n",
    "teams = extract_teams(data_train) # find all unique teams\n",
    "teams_data = init_teams(teams)\n",
    "home_win_rate, away_win_rate = track_matchup_winrate(data_train, teams_data) # track matchup data\n",
    "\n",
    "data_train['HomeMatchupWinRate'] = home_win_rate # append features to csv\n",
    "data_train['AwayMatchupWinRate'] = away_win_rate\n",
    "\n",
    "export = False\n",
    "if export:\n",
    "    data_train.to_csv('epl_train_elos_whoscored_winrates.csv')\n",
    "\n",
    "# adding to the test data\n",
    "\n",
    "home_win_rate, away_win_rate = compile_win_rates(teams_data, data_test)\n",
    "data_test['HomeMatchupWinRate'] = home_win_rate\n",
    "data_test['AwayMatchupWinRate'] = away_win_rate\n",
    "\n",
    "export = False\n",
    "if export:\n",
    "    data_test.to_csv('epl_test_elo_winrate.csv')"
   ]
  },
  {
   "cell_type": "markdown",
   "id": "1c378096",
   "metadata": {},
   "source": [
    "# Home and away win rates\n",
    "\n",
    "Home and away wins are tracked, then home and away winrates are calculated."
   ]
  },
  {
   "cell_type": "code",
   "execution_count": 115,
   "id": "2e453b39",
   "metadata": {},
   "outputs": [],
   "source": [
    "def track_home_away_wins(teams_data, data):\n",
    "    'tracks home and away wins for each team in data in teams_data'\n",
    "\n",
    "    home_team_home_winrates = [] # lists for csv\n",
    "    away_team_away_winrates = []\n",
    "\n",
    "    epl_team.update_all_total_games(teams_data) # initialise data\n",
    "    epl_team.update_all_home_away_winrate(teams_data)\n",
    "    for team in teams_data:\n",
    "        teams_data[team].home_wins = 0 # initialise number of home and away wins and games\n",
    "        teams_data[team].away_wins = 0\n",
    "        teams_data[team].home_games = 0\n",
    "        teams_data[team].away_games = 0\n",
    "    home_team_index, away_team_index, FTR_index = get_indices(data, ['HomeTeam', 'AwayTeam', 'FTR'])\n",
    "\n",
    "    for row in range(data.shape[0]): # for each match\n",
    "        home_team = data.iloc[row,home_team_index] # find relevant data\n",
    "        away_team = data.iloc[row,away_team_index]\n",
    "        result = data.iloc[row,FTR_index]\n",
    "        \n",
    "        try:\n",
    "            hwr = teams_data[home_team].home_winrate # find the home win rate of the home team\n",
    "            awr = teams_data[away_team].away_winrate\n",
    "        except KeyError:\n",
    "            hwr = np.nan\n",
    "            awr = np.nan\n",
    "        \n",
    "        home_team_home_winrates.append(hwr) # add to list for appending to the csv\n",
    "        away_team_away_winrates.append(awr)\n",
    "\n",
    "        teams_data[home_team].home_games += 1\n",
    "        teams_data[away_team].away_games += 1\n",
    "\n",
    "        if result == 'D':\n",
    "            pass\n",
    "        elif result == 'H':\n",
    "            teams_data[home_team].home_wins += 1 # find who won and record their win\n",
    "        else:\n",
    "            teams_data[away_team].away_wins += 1\n",
    "\n",
    "        teams_data[home_team].update_total_games() # update home and away win rates\n",
    "        teams_data[away_team].update_total_games()\n",
    "        teams_data[home_team].update_home_away_winrate()\n",
    "        teams_data[away_team].update_home_away_winrate()\n",
    "        \n",
    "    return home_team_home_winrates, away_team_away_winrates\n",
    "\n",
    "def compile_home_away_winrates(teams_data, data):\n",
    "    'returns a list of adds home and away wins for appending to the test csv'\n",
    "    home_team_home_winrates = [] # lists for appending to the csv\n",
    "    away_team_away_winrates = []\n",
    "    epl_team.update_all_home_away_winrate(teams_data)\n",
    "\n",
    "    home_team_index, away_team_index = get_indices(data, ['HomeTeam','AwayTeam'])\n",
    "    for row in range(data.shape[0]):\n",
    "        home_team = data.iloc[row,home_team_index]\n",
    "        away_team = data.iloc[row,away_team_index]\n",
    "        home_team_home_winrates.append(teams_data[home_team].home_winrate)\n",
    "        away_team_away_winrates.append(teams_data[away_team].away_winrate)\n",
    "\n",
    "    return home_team_home_winrates, away_team_away_winrates"
   ]
  },
  {
   "cell_type": "code",
   "execution_count": 116,
   "id": "fa66fd3c",
   "metadata": {},
   "outputs": [],
   "source": [
    "# generate home and away winrates for each team\n",
    "home_team_home_winrates,away_team_away_winrates = track_home_away_wins(teams_data, data_train)\n",
    "\n",
    "data_train['HomeTeamHomeWinrate'] = home_team_home_winrates # put into train csv\n",
    "data_train['AwayTeamAwayWinrate'] = away_team_away_winrates\n",
    "\n",
    "# put into test csv\n",
    "home_team_home_winrates, away_team_away_winrate = compile_home_away_winrates(teams_data, data_test)\n",
    "\n",
    "data_test['HomeTeamHomeWinrate'] = home_team_home_winrates\n",
    "data_test['AwayTeamAwayWinrate'] = away_team_away_winrate\n",
    "\n",
    "export = False\n",
    "if export:\n",
    "    data_train.to_csv('epl_train_updating_winrates.csv')\n",
    "    data_test.to_csv('epl_test_updating_winrates.csv')"
   ]
  },
  {
   "cell_type": "markdown",
   "id": "f7bced47",
   "metadata": {},
   "source": [
    "# Previous matchup results\n",
    "\n",
    "Track the team's result in the last (few) time(s) they had the matchup."
   ]
  },
  {
   "cell_type": "code",
   "execution_count": 117,
   "id": "f958bc54",
   "metadata": {},
   "outputs": [],
   "source": [
    "def track_matchup_result(teams_data, data, n):\n",
    "    'lists all the results for each matchup, n is previous n results'\n",
    "    home_previous_matchup_results = [] # list for appending to the csv\n",
    "    for team in teams_data:\n",
    "        for opponent in teams_data[team].matchup_results:\n",
    "            teams_data[team].matchup_results[opponent] = [] # initialise matchup data\n",
    "\n",
    "    home_team_index, away_team_index, FTR_index = get_indices(data,['HomeTeam','AwayTeam','FTR'])\n",
    "    for row in range(data.shape[0]): # for each match\n",
    "        home_team = data.iloc[row,home_team_index] # find relevant data\n",
    "        away_team = data.iloc[row,away_team_index]\n",
    "        result = data.iloc[row,FTR_index]\n",
    "\n",
    "        previous_result = 0\n",
    "        try: # find previous home team result, add the previous n results together\n",
    "            for i in range(n):\n",
    "                previous_result += teams_data[home_team].matchup_results[away_team][-(i+1)]       \n",
    "        except IndexError: # no previous result\n",
    "            previous_result = 0.5\n",
    "        except KeyError:\n",
    "            home_previous_matchup_results.append(np.nan) # home team name is nan\n",
    "            continue\n",
    "        home_previous_matchup_results.append(previous_result)\n",
    "\n",
    "        if result == 'D': # update previous matchup data\n",
    "            teams_data[home_team].matchup_results[away_team].append(0.5) # 0.5 for a draw\n",
    "            teams_data[away_team].matchup_results[home_team].append(0.5)\n",
    "        elif result == 'H':\n",
    "            teams_data[home_team].matchup_results[away_team].append(1) # 1 for a win\n",
    "            teams_data[away_team].matchup_results[home_team].append(0) # 0 for a loss\n",
    "        else:\n",
    "            teams_data[home_team].matchup_results[away_team].append(0)\n",
    "            teams_data[away_team].matchup_results[home_team].append(1)\n",
    "    return home_previous_matchup_results\n",
    "\n",
    "def final_matchup_results(teams_data, data, n):\n",
    "    'find final matchup results for test csv'\n",
    "    home_team_index, away_team_index = get_indices(data,['HomeTeam','AwayTeam'])\n",
    "    home_previous_matchup_results = []\n",
    "    \n",
    "    for row in range(data.shape[0]):\n",
    "        home_team = data.iloc[row,home_team_index]\n",
    "        away_team = data.iloc[row,away_team_index]\n",
    "        previous_result = 0\n",
    "\n",
    "        try: # find previous home team result\n",
    "            for i in range(n):\n",
    "                previous_result += teams_data[home_team].matchup_results[away_team][-(i+1)]       \n",
    "        except IndexError:\n",
    "            previous_result = np.nan\n",
    "\n",
    "        home_previous_matchup_results.append(previous_result)\n",
    "    return home_previous_matchup_results"
   ]
  },
  {
   "cell_type": "markdown",
   "id": "8d1b01ba",
   "metadata": {},
   "source": [
    "# Running the previous matchup(s)\n",
    "\n",
    "Creating a list to put in the .csv"
   ]
  },
  {
   "cell_type": "code",
   "execution_count": 119,
   "id": "a3cd3a00",
   "metadata": {},
   "outputs": [],
   "source": [
    "n = 1 # past n games\n",
    "home_previous_matchup_results = track_matchup_result(teams_data, data_train, n) # find previous matchup results for train data\n",
    "home_previous_matchup_results_test = final_matchup_results(teams_data, data_test, n) # add latest previous matchu results to test data\n",
    "\n",
    "data_train['HomePreviousMatchupResult'] = home_previous_matchup_results # append to csv\n",
    "data_test['HomePreviousMatchupResult'] = home_previous_matchup_results_test\n",
    "\n",
    "export = False\n",
    "if export:\n",
    "    data_train.to_csv('epl_train_almost_final.csv')\n",
    "    data_test.to_csv('epl_test_almost_final.csv')"
   ]
  },
  {
   "cell_type": "markdown",
   "id": "b9d722b4",
   "metadata": {},
   "source": [
    "# Team Strength\n",
    "\n",
    "Calculating the attacking and defensive strength of the home and away teams"
   ]
  },
  {
   "cell_type": "code",
   "execution_count": 120,
   "id": "6d7ef115",
   "metadata": {},
   "outputs": [],
   "source": [
    "def track_team_strength(teams_data, data):\n",
    "    'find the goals scored for and against each team, compare it to the average home and away team scores.'\n",
    "\n",
    "    home_attacking_strength = [] # lists for appending to csv\n",
    "    home_defensive_strength = []\n",
    "    away_attacking_strength = []\n",
    "    away_defensive_strength = []\n",
    "\n",
    "    total_fthg = 0 # initialise data used to calculate initial team strength\n",
    "    total_ftag = 0\n",
    "    avg_fthg = 1\n",
    "    avg_ftag = 1\n",
    "\n",
    "    for team in teams_data:\n",
    "        teams_data[team].home_goals_scored = 0 # initialise data for each team\n",
    "        teams_data[team].away_goals_scored = 0\n",
    "        teams_data[team].home_goals_conceded = 0\n",
    "        teams_data[team].away_goals_conceded = 0\n",
    "        teams_data[team].home_attacking_strength = 0\n",
    "        teams_data[team].home_defensive_strength = 0\n",
    "        teams_data[team].away_attacking_strength = 0\n",
    "        teams_data[team].away_defensive_strength = 0\n",
    "        teams_data[team].home_games = 0\n",
    "        teams_data[team].away_games = 0\n",
    "\n",
    "    epl_team.update_all_home_strength(teams_data,avg_fthg,avg_ftag) # initialise team strength\n",
    "    epl_team.update_all_away_strength(teams_data,avg_fthg,avg_ftag)\n",
    "\n",
    "    home_team_index, away_team_index, FTHG_index, FTAG_index = get_indices(data, ['HomeTeam', 'AwayTeam', 'FTHG', 'FTAG'])\n",
    "\n",
    "    for row in range(data.shape[0]): # for each match\n",
    "        home_team = data.iloc[row,home_team_index] # find relevant data\n",
    "        away_team = data.iloc[row,away_team_index]\n",
    "        fthg = data.iloc[row,FTHG_index]\n",
    "        ftag = data.iloc[row,FTAG_index]\n",
    "\n",
    "        try:\n",
    "            has = teams_data[home_team].home_attacking_strength # find strengths to append\n",
    "            hds = teams_data[home_team].home_defensive_strength\n",
    "            aas = teams_data[away_team].away_attacking_strength\n",
    "            ads = teams_data[away_team].away_defensive_strength\n",
    "        except KeyError:# nan row\n",
    "            has, hds, aas, ads = [np.nan for i in range(4)] \n",
    "\n",
    "        home_attacking_strength.append(has) # append to lists for appending to csv\n",
    "        home_defensive_strength.append(hds)\n",
    "        away_attacking_strength.append(aas)\n",
    "        away_defensive_strength.append(ads)\n",
    "\n",
    "        avg_fthg = (total_fthg+10)/(row+10) # calculate average goals scored per game overall\n",
    "        avg_ftag = (total_ftag+10)/(row+10)\n",
    "\n",
    "        if not pd.isna(fthg):\n",
    "            teams_data[home_team].home_goals_scored += fthg\n",
    "            teams_data[away_team].away_goals_scored += ftag\n",
    "            teams_data[home_team].home_goals_conceded += ftag\n",
    "            teams_data[away_team].away_goals_conceded += fthg\n",
    "            teams_data[home_team].home_games += 1\n",
    "            teams_data[away_team].away_games += 1\n",
    "            total_fthg += fthg\n",
    "            total_ftag += ftag\n",
    "\n",
    "        teams_data[home_team].update_home_strength(avg_fthg,avg_ftag) # calculate home strength with new data\n",
    "        teams_data[away_team].update_away_strength(avg_ftag,avg_fthg)\n",
    "\n",
    "    return home_attacking_strength, home_defensive_strength, away_attacking_strength, away_defensive_strength, avg_fthg, avg_ftag\n",
    "\n",
    "def compile_team_strength(teams_data, data, avg_fthg, avg_ftag):\n",
    "    'adds home and away wins to the csv'\n",
    "    home_team_attacking_strength = [] # lists for appending to the csv\n",
    "    home_team_defensive_strength = []\n",
    "    away_team_attacking_strength = []\n",
    "    away_team_defensive_strength = []\n",
    "\n",
    "    epl_team.update_all_home_strength(teams_data, avg_fthg, avg_ftag) # initialise data\n",
    "    epl_team.update_all_away_strength(teams_data, avg_fthg, avg_ftag)\n",
    "    home_team_index, away_team_index = get_indices(data, ['HomeTeam','AwayTeam'])\n",
    "    for row in range(data.shape[0]):\n",
    "        home_team = data.iloc[row,home_team_index] # find home and away teams\n",
    "        away_team = data.iloc[row,away_team_index]\n",
    "        home_team_attacking_strength.append(teams_data[home_team].home_attacking_strength)\n",
    "        home_team_defensive_strength.append(teams_data[home_team].home_defensive_strength)\n",
    "        away_team_attacking_strength.append(teams_data[away_team].away_attacking_strength)\n",
    "        away_team_defensive_strength.append(teams_data[away_team].away_defensive_strength)\n",
    "\n",
    "    return home_team_attacking_strength, home_team_defensive_strength, away_team_attacking_strength, away_team_defensive_strength"
   ]
  },
  {
   "cell_type": "markdown",
   "id": "8c1589c0",
   "metadata": {},
   "source": [
    "# Running team strength calculations\n",
    "\n",
    "Some extra calculations required to start with."
   ]
  },
  {
   "cell_type": "code",
   "execution_count": 122,
   "id": "50a62e9d",
   "metadata": {},
   "outputs": [],
   "source": [
    "# find strength of teams\n",
    "home_attacking_str, home_defensive_str, away_attacking_str, away_defensive_str, avg_fthg, avg_ftag = track_team_strength(teams_data, data_train)\n",
    "\n",
    "data_train['HomeAttackingStrength'] = home_attacking_str\n",
    "data_train['HomeDefensiveStrength'] = home_defensive_str\n",
    "data_train['AwayAttackingStrength'] = away_attacking_str\n",
    "data_train['AwayDefensiveStrength'] = away_defensive_str\n",
    "\n",
    "# compile to test csv\n",
    "home_attacking_str, home_defensive_str, away_attacking_str, away_defensive_str = compile_team_strength(teams_data, data_test, avg_fthg, avg_ftag)\n",
    "\n",
    "data_test['HomeAttackingStrength'] = home_attacking_str\n",
    "data_test['HomeDefensiveStrength'] = home_defensive_str\n",
    "data_test['AwayAttackingStrength'] = away_attacking_str\n",
    "data_test['AwayDefensiveStrength'] = away_defensive_str\n",
    "\n",
    "export = False\n",
    "if export:\n",
    "    data_train.to_csv('epl_train_final.csv')\n",
    "    data_test.to_csv('epl_test_final.csv')"
   ]
  },
  {
   "cell_type": "markdown",
   "id": "ceb886a7",
   "metadata": {},
   "source": [
    "# Display stats\n",
    "\n",
    "Displaying calculated statistics"
   ]
  },
  {
   "cell_type": "code",
   "execution_count": 123,
   "id": "f46b7b42",
   "metadata": {},
   "outputs": [
    {
     "name": "stdout",
     "output_type": "stream",
     "text": [
      "Brentford vs Bournemouth (Total games: 1)\n",
      "\n",
      "Wins:\n",
      "Brentford: 0\n",
      "Bournemouth: 0\n",
      "\n",
      "Matchup winrates:\n",
      "Brentford: 0.25\n",
      "Bournemouth: 0.25\n",
      "\n",
      "Brentford has 10/26 (0.3793103448275862) home wins and 6/25 (0.25) away wins\n",
      "Brentford has played 51 games\n",
      "\n",
      "As the home team, Brentford played 26 games. \n",
      "They scored 35.0 goals and conceded 28.0\n",
      "This resulted in a attacking strength of 0.8206475542848312 and a defensive strength of 0.9140760371012129\n",
      "\n",
      "As the away team, Brentford played 25 games. \n",
      "They scored 32.0 goals and conceded 50.0\n",
      "This resulted in a attacking strength of 1.0391601263887473 and a defensive strength of 1.125459503019197\n",
      "\n",
      "As the home team, Bournemouth played 102 games. \n",
      "They scored 142.0 goals and conceded 156.0\n",
      "This resulted in a attacking strength of 0.8909887732235311 and a defensive strength of 1.2834864656289586\n",
      "\n",
      "As the away team, Bournemouth played 101 games. \n",
      "They scored 111.0 goals and conceded 202.0\n",
      "This resulted in a attacking strength of 0.9439817964942824 and a defensive strength of 1.253890317177544\n"
     ]
    }
   ],
   "source": [
    "def matchup_stats(teams_data, team, opponent):\n",
    "    'displays generated matchup info between given teams'\n",
    "    if opponent == 'all':\n",
    "        print(f'''{team}: \\nWins: \\n{teams_data[team].matchup_wins}''', end = '\\n\\n')\n",
    "        print(f'''Total games vs: \\n{teams_data[team].matchup_games}''', end = '\\n\\n')\n",
    "        print(f'''Winrate:\\n{teams_data[team].matchup_winrates}''')\n",
    "    else:\n",
    "        print(f'''{team} vs {opponent}''', end = ' ')\n",
    "        print(f'''(Total games: {teams_data[team].matchup_games[opponent]})''', end = '\\n\\n')\n",
    "        print(f'''Wins:\\n{team}: {teams_data[team].matchup_wins[opponent]}''', end = '\\n')\n",
    "        print(f'''{opponent}: {teams_data[opponent].matchup_wins[team]}''', end = '\\n\\n')\n",
    "        print(f'''Matchup winrates:\\n{team_of_interest}: {teams_data[team].matchup_winrates[opponent]}''', end = '\\n')\n",
    "        print(f'''{opponent}: {teams_data[opponent].matchup_winrates[team]}''', end = '\\n\\n')\n",
    "    return None\n",
    "\n",
    "def how_many_games(teams_data, team):\n",
    "    if team == 'all':\n",
    "        for team in teams_data:\n",
    "            print(team, 'has played', teams_data[team].total_games, 'games')\n",
    "    else:\n",
    "        print(team, 'has played', teams_data[team].total_games, 'games')\n",
    "\n",
    "def home_away_winrates(teams_data, team):\n",
    "    if team == 'all':\n",
    "        for team in teams_data:\n",
    "            home_wins, away_wins, home_games, away_games, home_winrate, away_winrate = home_away_winrates_supp(teams_data,team)\n",
    "            print(f'\\n{team} has {home_wins}/{home_wins} ({home_winrate}) home wins and {away_wins}/{away_games} ({away_winrate}) away wins')\n",
    "    else:\n",
    "        home_wins, away_wins, home_games, away_games, home_winrate, away_winrate = home_away_winrates_supp(teams_data,team)\n",
    "        print(f'{team} has {home_wins}/{home_games} ({home_winrate}) home wins and {away_wins}/{away_games} ({away_winrate}) away wins')\n",
    "\n",
    "def home_away_winrates_supp(teams_data,team):\n",
    "    home_wins = teams_data[team].home_wins\n",
    "    away_wins = teams_data[team].away_wins\n",
    "    home_games = teams_data[team].home_games\n",
    "    away_games = teams_data[team].away_games\n",
    "    home_winrate = teams_data[team].home_winrate\n",
    "    away_winrate = teams_data[team].away_winrate\n",
    "    return home_wins, away_wins, home_games, away_games, home_winrate, away_winrate\n",
    "\n",
    "def team_strength(teams_data, team):\n",
    "    home_goals_scored = teams_data[team].home_goals_scored\n",
    "    away_goals_scored = teams_data[team].away_goals_scored\n",
    "    home_goals_conceded = teams_data[team].home_goals_conceded\n",
    "    away_goals_conceded = teams_data[team].away_goals_conceded\n",
    "    home_attacking_strength = teams_data[team].home_attacking_strength\n",
    "    home_defensive_strength = teams_data[team].home_defensive_strength\n",
    "    away_attacking_strength = teams_data[team].away_attacking_strength\n",
    "    away_defensive_strength = teams_data[team].away_defensive_strength\n",
    "    home_games = teams_data[team].home_games\n",
    "    away_games = teams_data[team].away_games\n",
    "    print(f'\\nAs the home team, {team} played {home_games} games. \\nThey scored {home_goals_scored} goals and conceded {home_goals_conceded}')\n",
    "    print(f'This resulted in a attacking strength of {home_attacking_strength} and a defensive strength of {home_defensive_strength}')\n",
    "    print(f'\\nAs the away team, {team} played {away_games} games. \\nThey scored {away_goals_scored} goals and conceded {away_goals_conceded}')\n",
    "    print(f'This resulted in a attacking strength of {away_attacking_strength} and a defensive strength of {away_defensive_strength}')\n",
    "\n",
    "team_of_interest = '''Brentford'''\n",
    "opponent_of_interest = '''Bournemouth'''\n",
    "matchup_stats(teams_data, team_of_interest, opponent_of_interest)\n",
    "home_away_winrates(teams_data, team_of_interest)\n",
    "how_many_games(teams_data, team_of_interest)\n",
    "team_strength(teams_data, team_of_interest)\n",
    "team_strength(teams_data, opponent_of_interest)"
   ]
  },
  {
   "cell_type": "markdown",
   "id": "52140a98",
   "metadata": {},
   "source": [
    "# Average home and away win rate"
   ]
  },
  {
   "cell_type": "code",
   "execution_count": 124,
   "id": "22926e5c",
   "metadata": {},
   "outputs": [
    {
     "name": "stdout",
     "output_type": "stream",
     "text": [
      "0.38804170963019774 0.2467684344534244\n",
      "[nan]\n"
     ]
    }
   ],
   "source": [
    "# average win rates\n",
    "i = 0\n",
    "h = 0\n",
    "a = 0\n",
    "for team in teams_data:\n",
    "    h += teams_data[team].home_winrate\n",
    "    a += teams_data[team].away_winrate\n",
    "    i += 1\n",
    "h /= i\n",
    "a /= i\n",
    "\n",
    "# finding which teams had lower home than away win rate\n",
    "print(h,a)\n",
    "x = []\n",
    "for team in teams_data:\n",
    "    if teams_data[team].home_winrate < teams_data[team].away_winrate:\n",
    "        x.append(team)\n",
    "print(x)"
   ]
  },
  {
   "cell_type": "code",
   "execution_count": null,
   "id": "e1c5d422",
   "metadata": {},
   "outputs": [],
   "source": []
  }
 ],
 "metadata": {
  "kernelspec": {
   "display_name": "Python 3 (ipykernel)",
   "language": "python",
   "name": "python3"
  },
  "language_info": {
   "codemirror_mode": {
    "name": "ipython",
    "version": 3
   },
   "file_extension": ".py",
   "mimetype": "text/x-python",
   "name": "python",
   "nbconvert_exporter": "python",
   "pygments_lexer": "ipython3",
   "version": "3.10.3"
  }
 },
 "nbformat": 4,
 "nbformat_minor": 5
}
